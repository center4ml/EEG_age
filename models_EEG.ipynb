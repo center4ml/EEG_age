{
 "cells": [
  {
   "cell_type": "markdown",
   "metadata": {},
   "source": [
    "## Testowanie różnych modeli dla danych EEG"
   ]
  },
  {
   "cell_type": "code",
   "execution_count": 1,
   "metadata": {},
   "outputs": [],
   "source": [
    "import glob\n",
    "import re\n",
    "\n",
    "import pandas as pd\n",
    "import numpy as np\n",
    "\n",
    "from matplotlib import pyplot as plt\n",
    "\n",
    "from sklearn.model_selection import train_test_split\n",
    "from sklearn.ensemble import RandomForestClassifier\n",
    "from sklearn.metrics import r2_score, f1_score\n",
    "from sklearn.metrics import roc_auc_score, accuracy_score\n",
    "\n",
    "#import scikitplot as skplt\n",
    "#from scikitplot.estimators import plot_learning_curve\n",
    "\n",
    "from sklearn import metrics\n",
    "from sklearn.inspection import permutation_importance\n",
    "\n",
    "from functools import partial\n",
    "from hyperopt import hp, fmin, tpe, STATUS_OK, Trials\n",
    "\n",
    "from sklearn.metrics import classification_report\n",
    "\n",
    "import xgboost as xgb\n",
    "import lightgbm as lgb\n",
    "import catboost as ctb"
   ]
  },
  {
   "cell_type": "code",
   "execution_count": 2,
   "metadata": {},
   "outputs": [],
   "source": [
    "# funkcja do sortowania danych\n",
    "numbers = re.compile(r'(\\d+)')\n",
    "def numericalSort(value):\n",
    "    parts = numbers.split(value)\n",
    "    parts[1::2] = map(int, parts[1::2])\n",
    "    return parts"
   ]
  },
  {
   "cell_type": "markdown",
   "metadata": {},
   "source": [
    "# KLASYFIKACJA"
   ]
  },
  {
   "cell_type": "code",
   "execution_count": 6,
   "metadata": {},
   "outputs": [],
   "source": [
    "def data_to_model(fold):\n",
    "    # ścieżka do folderów w którym są pliki .tar\n",
    "    path_to_name='_coh/fold={}'.format(fold)\n",
    "\n",
    "    # tworzenie listy nazw z plików .tar\n",
    "    name_fold=[x.split('/')[-1].split('.')[0] for x in sorted(glob.glob('{}/*.tar'.format(path_to_name)),key=numericalSort)]\n",
    "    \n",
    "    # wczytujemy zbiór danych\n",
    "    results=pd.read_csv('up_coh/up_fold={}/fold_{}.csv'.format(fold,fold))\n",
    "    \n",
    "    # tworzymy zbiór danych tylko dla pacjentów zdrowych gdzie klasa =0\n",
    "    results1=results[results['class']==0]\n",
    "    \n",
    "    # tworzenie listy z nazwami wszytskich plików .npy z wszytskich folderów\n",
    "    # tworznie kluczy do słownika\n",
    "    npy_files=[]\n",
    "    for n_fold in name_fold:\n",
    "        npy = [x for x in sorted(glob.glob('up_coh/up_fold={}/{}/*.npy'.format(fold,n_fold)),key=numericalSort)]\n",
    "        npy_files.extend(npy)\n",
    "    \n",
    "    # tworznie wartości do słownika\n",
    "    npy_v=['{}.data.npy'.format(x) for x in results['num'] ]\n",
    "    \n",
    "    # tworzenie słownika\n",
    "    dict_npy = dict(zip(npy_files,npy_v))\n",
    "    # tworzenie listy .npy gdzie klasa =0\n",
    "    npy_1=['{}.data.npy'.format(x) for x in results1['num'] ]\n",
    "    \n",
    "    # tworzenie listy ścieżek do plików .npy gdzie klasa =0 w celu pobrania odpowiednich plików .npy z folderów\n",
    "    list_name=[]\n",
    "    for key, value in dict_npy.items():\n",
    "        if value in npy_1:\n",
    "            list_name.append(key)\n",
    "    \n",
    "    # przygotowanie macierzy cech\n",
    "    X_train=[]\n",
    "    for x in list_name:\n",
    "        X_train.append(np.load('{}'.format(x)))\n",
    "    X=np.array(X_train)\n",
    "    \n",
    "    # przygotowanie targetu\n",
    "    y=results1['age_int']\n",
    "    \n",
    "    return X,y"
   ]
  },
  {
   "cell_type": "code",
   "execution_count": 7,
   "metadata": {},
   "outputs": [],
   "source": [
    "# ładowanie danych dla wszytskich 'fold'ów' uwzględniając tylko pacjentów zdrowych\n",
    "X_fold1,y_fold1=data_to_model(1)\n",
    "X_fold2,y_fold2=data_to_model(2)\n",
    "X_fold3,y_fold3=data_to_model(3)\n",
    "X_fold4,y_fold4=data_to_model(4)\n",
    "X_fold5,y_fold5=data_to_model(5)\n",
    "X_fold6,y_fold6=data_to_model(6)"
   ]
  },
  {
   "cell_type": "code",
   "execution_count": 20,
   "metadata": {},
   "outputs": [],
   "source": [
    "X_all=np.concatenate((X_fold1, X_fold2, X_fold3, X_fold4, X_fold5, X_fold6))"
   ]
  },
  {
   "cell_type": "code",
   "execution_count": 21,
   "metadata": {},
   "outputs": [],
   "source": [
    "y_all=pd.concat((y_fold1, y_fold2, y_fold3, y_fold4, y_fold5, y_fold6))"
   ]
  },
  {
   "cell_type": "code",
   "execution_count": 22,
   "metadata": {},
   "outputs": [
    {
     "data": {
      "text/plain": [
       "((21561, 1653), (21561,))"
      ]
     },
     "execution_count": 22,
     "metadata": {},
     "output_type": "execute_result"
    }
   ],
   "source": [
    "X_all.shape, y_all.shape"
   ]
  },
  {
   "cell_type": "markdown",
   "metadata": {},
   "source": [
    "### Sprawdzenie rozkładu danych 'age'"
   ]
  },
  {
   "cell_type": "markdown",
   "metadata": {},
   "source": [
    "'age' został podzielony na 10 klas - odpowiadjacych co 10 lat"
   ]
  },
  {
   "cell_type": "code",
   "execution_count": 11,
   "metadata": {},
   "outputs": [],
   "source": [
    "# funkcja do tworzenia histogramów\n",
    "def check_data(y):\n",
    "    unique, counts_train = np.unique(y, return_counts=True)\n",
    "    \n",
    "    plt.figure(figsize=(8, 5))\n",
    "    plt.bar(y_all.unique(), counts_train)\n",
    "    plt.ylabel('value_counts')\n",
    "    plt.title('age_int')\n",
    "    plt.xticks(rotation='vertical')\n",
    "    plt.show()"
   ]
  },
  {
   "cell_type": "code",
   "execution_count": 12,
   "metadata": {},
   "outputs": [
    {
     "data": {
      "image/png": "[encoded data removed]",
      "text/plain": [
       "<Figure size 576x360 with 1 Axes>"
      ]
     },
     "metadata": {
      "needs_background": "light"
     },
     "output_type": "display_data"
    }
   ],
   "source": [
    "check_data(y_all)"
   ]
  },
  {
   "cell_type": "code",
   "execution_count": 23,
   "metadata": {},
   "outputs": [],
   "source": [
    "X_train, X_test, y_train, y_test = train_test_split(X_all, y_all, test_size=0.3, random_state=2022)"
   ]
  },
  {
   "cell_type": "code",
   "execution_count": 24,
   "metadata": {},
   "outputs": [
    {
     "name": "stdout",
     "output_type": "stream",
     "text": [
      "Train: (15092, 1653) (15092,)\n",
      "Test: (6469, 1653) (6469,)\n"
     ]
    }
   ],
   "source": [
    "print(\"Train:\", X_train.shape, y_train.shape)\n",
    "print(\"Test:\", X_test.shape, y_test.shape)"
   ]
  },
  {
   "cell_type": "markdown",
   "metadata": {},
   "source": [
    "### Dane treningowe"
   ]
  },
  {
   "cell_type": "code",
   "execution_count": 11,
   "metadata": {},
   "outputs": [
    {
     "data": {
      "image/png": "[encoded data removed]",
      "text/plain": [
       "<Figure size 576x360 with 1 Axes>"
      ]
     },
     "metadata": {
      "needs_background": "light"
     },
     "output_type": "display_data"
    }
   ],
   "source": [
    "check_data(y_train)"
   ]
  },
  {
   "cell_type": "markdown",
   "metadata": {},
   "source": [
    "### Dane testowe"
   ]
  },
  {
   "cell_type": "code",
   "execution_count": 12,
   "metadata": {},
   "outputs": [
    {
     "data": {
      "image/png": "[encoded data removed]",
      "text/plain": [
       "<Figure size 576x360 with 1 Axes>"
      ]
     },
     "metadata": {
      "needs_background": "light"
     },
     "output_type": "display_data"
    }
   ],
   "source": [
    "check_data(y_test)"
   ]
  },
  {
   "cell_type": "markdown",
   "metadata": {},
   "source": [
    "## model Random Forest Classifier"
   ]
  },
  {
   "cell_type": "code",
   "execution_count": 25,
   "metadata": {},
   "outputs": [],
   "source": [
    "# trenowanie modelu - pacjenci zdrowi\n",
    "model = RandomForestClassifier(random_state=2022, max_depth=20, n_estimators=400)\n",
    "model.fit(X_train, y_train)\n",
    "y_pred = model.predict(X_test)"
   ]
  },
  {
   "cell_type": "code",
   "execution_count": 41,
   "metadata": {},
   "outputs": [
    {
     "name": "stdout",
     "output_type": "stream",
     "text": [
      "0.41304683876951614\n"
     ]
    }
   ],
   "source": [
    "print(metrics.accuracy_score(y_test, y_pred))"
   ]
  },
  {
   "cell_type": "code",
   "execution_count": 45,
   "metadata": {},
   "outputs": [
    {
     "name": "stdout",
     "output_type": "stream",
     "text": [
      "              precision    recall  f1-score   support\n",
      "\n",
      "           1       0.60      0.55      0.57       985\n",
      "           2       0.40      0.55      0.46      1287\n",
      "           3       0.35      0.36      0.35      1254\n",
      "           4       0.35      0.24      0.28      1082\n",
      "           5       0.39      0.46      0.43      1092\n",
      "           6       0.46      0.28      0.35       761\n",
      "           7       0.00      0.00      0.00         8\n",
      "\n",
      "    accuracy                           0.41      6469\n",
      "   macro avg       0.36      0.35      0.35      6469\n",
      "weighted avg       0.42      0.41      0.41      6469\n",
      "\n"
     ]
    },
    {
     "name": "stderr",
     "output_type": "stream",
     "text": [
      "/home/anna_s/anaconda3/lib/python3.8/site-packages/sklearn/metrics/_classification.py:1221: UndefinedMetricWarning: Precision and F-score are ill-defined and being set to 0.0 in labels with no predicted samples. Use `zero_division` parameter to control this behavior.\n",
      "  _warn_prf(average, modifier, msg_start, len(result))\n"
     ]
    }
   ],
   "source": [
    "print(classification_report(y_test, y_pred))"
   ]
  },
  {
   "cell_type": "code",
   "execution_count": 48,
   "metadata": {},
   "outputs": [
    {
     "data": {
      "image/png": "[encoded data removed]",
      "text/plain": [
       "<Figure size 720x720 with 2 Axes>"
      ]
     },
     "metadata": {
      "needs_background": "light"
     },
     "output_type": "display_data"
    }
   ],
   "source": [
    "skplt.metrics.plot_confusion_matrix(y_test, y_pred, normalize=True, figsize=(10 ,10));"
   ]
  },
  {
   "cell_type": "code",
   "execution_count": 42,
   "metadata": {},
   "outputs": [
    {
     "name": "stdout",
     "output_type": "stream",
     "text": [
      "2    1785\n",
      "5    1289\n",
      "3    1285\n",
      "1     911\n",
      "4     745\n",
      "6     454\n",
      "dtype: int64\n"
     ]
    }
   ],
   "source": [
    "print( pd.Series(y_pred).value_counts() )"
   ]
  },
  {
   "cell_type": "markdown",
   "metadata": {},
   "source": [
    "Sprawdzenie ważności cech"
   ]
  },
  {
   "cell_type": "code",
   "execution_count": 50,
   "metadata": {},
   "outputs": [
    {
     "name": "stderr",
     "output_type": "stream",
     "text": [
      "/home/anna_s/anaconda3/lib/python3.8/site-packages/matplotlib/text.py:1163: FutureWarning: elementwise comparison failed; returning scalar instead, but in the future will perform elementwise comparison\n",
      "  if s != self._text:\n"
     ]
    },
    {
     "data": {
      "image/png": "[encoded data removed]",
      "text/plain": [
       "<Figure size 1080x360 with 1 Axes>"
      ]
     },
     "metadata": {
      "needs_background": "light"
     },
     "output_type": "display_data"
    }
   ],
   "source": [
    "skplt.estimators.plot_feature_importances(model, feature_names=X_train, x_tick_rotation=90, figsize=(15, 5));"
   ]
  },
  {
   "cell_type": "markdown",
   "metadata": {},
   "source": [
    "## model XGBClassifier"
   ]
  },
  {
   "cell_type": "code",
   "execution_count": 27,
   "metadata": {},
   "outputs": [],
   "source": [
    "# trenowanie modelu - pacjenci zdrowi\n",
    "model = xgb.XGBClassifier(random_state=2022, max_depth=20, n_estimators=40)\n",
    "model.fit(X_train, y_train)\n",
    "y_pred = model.predict(X_test)"
   ]
  },
  {
   "cell_type": "code",
   "execution_count": 61,
   "metadata": {},
   "outputs": [
    {
     "name": "stdout",
     "output_type": "stream",
     "text": [
      "0.4125830885762869\n"
     ]
    }
   ],
   "source": [
    "print(metrics.accuracy_score(y_test, y_pred))"
   ]
  },
  {
   "cell_type": "markdown",
   "metadata": {},
   "source": [
    "Sprawdzenie dla modelu XGBClassifier parametr n_estimators"
   ]
  },
  {
   "cell_type": "code",
   "execution_count": 13,
   "metadata": {},
   "outputs": [
    {
     "name": "stderr",
     "output_type": "stream",
     "text": [
      "/home/anna_s/anaconda3/lib/python3.8/site-packages/xgboost/sklearn.py:888: UserWarning: The use of label encoder in XGBClassifier is deprecated and will be removed in a future release. To remove this warning, do the following: 1) Pass option use_label_encoder=False when constructing XGBClassifier object; and 2) Encode your labels (y) as integers starting with 0, i.e. 0, 1, 2, ..., [num_class - 1].\n",
      "  warnings.warn(label_encoder_deprecation_msg, UserWarning)\n"
     ]
    },
    {
     "name": "stdout",
     "output_type": "stream",
     "text": [
      "[08:05:15] WARNING: ../src/learner.cc:1061: Starting in XGBoost 1.3.0, the default evaluation metric used with the objective 'multi:softprob' was changed from 'merror' to 'mlogloss'. Explicitly set eval_metric if you'd like to restore the old behavior.\n"
     ]
    }
   ],
   "source": [
    "# trenowanie modelu - pacjenci zdrowi\n",
    "model = xgb.XGBClassifier(random_state=2022, max_depth=20, n_estimators=60)\n",
    "model.fit(X_train, y_train)\n",
    "y_pred = model.predict(X_test)"
   ]
  },
  {
   "cell_type": "code",
   "execution_count": 14,
   "metadata": {},
   "outputs": [
    {
     "name": "stdout",
     "output_type": "stream",
     "text": [
      "0.420312258463441\n"
     ]
    }
   ],
   "source": [
    "print(metrics.accuracy_score(y_test, y_pred))"
   ]
  },
  {
   "cell_type": "code",
   "execution_count": 15,
   "metadata": {},
   "outputs": [
    {
     "name": "stdout",
     "output_type": "stream",
     "text": [
      "[08:27:31] WARNING: ../src/learner.cc:1061: Starting in XGBoost 1.3.0, the default evaluation metric used with the objective 'multi:softprob' was changed from 'merror' to 'mlogloss'. Explicitly set eval_metric if you'd like to restore the old behavior.\n"
     ]
    }
   ],
   "source": [
    "# trenowanie modelu - pacjenci zdrowi\n",
    "model = xgb.XGBClassifier(random_state=2022, max_depth=20, n_estimators=90)\n",
    "model.fit(X_train, y_train)\n",
    "y_pred = model.predict(X_test)"
   ]
  },
  {
   "cell_type": "code",
   "execution_count": 16,
   "metadata": {},
   "outputs": [
    {
     "name": "stdout",
     "output_type": "stream",
     "text": [
      "0.42618642757767816\n"
     ]
    }
   ],
   "source": [
    "print(metrics.accuracy_score(y_test, y_pred))"
   ]
  },
  {
   "cell_type": "code",
   "execution_count": 28,
   "metadata": {},
   "outputs": [],
   "source": [
    "# trenowanie modelu - pacjenci zdrowi\n",
    "model = xgb.XGBClassifier(random_state=2022, max_depth=20, n_estimators=200)\n",
    "model.fit(X_train, y_train)\n",
    "y_pred = model.predict(X_test)"
   ]
  },
  {
   "cell_type": "code",
   "execution_count": 18,
   "metadata": {},
   "outputs": [
    {
     "name": "stdout",
     "output_type": "stream",
     "text": [
      "0.43468851445354767\n"
     ]
    }
   ],
   "source": [
    "print(metrics.accuracy_score(y_test, y_pred))"
   ]
  },
  {
   "cell_type": "code",
   "execution_count": null,
   "metadata": {},
   "outputs": [],
   "source": []
  },
  {
   "cell_type": "markdown",
   "metadata": {},
   "source": [
    "### Optymalizacja hiperparametrów modelu - Baysian optimalization"
   ]
  },
  {
   "cell_type": "code",
   "execution_count": 68,
   "metadata": {},
   "outputs": [],
   "source": [
    "# https://github.com/MamczurMiroslaw/gradient_boosting_example/blob/master/Hyperparameters_optimalization_example.ipynb"
   ]
  },
  {
   "cell_type": "code",
   "execution_count": 28,
   "metadata": {},
   "outputs": [],
   "source": [
    "def create_measures(y,y_pred): \n",
    "    score_test = roc_auc_score(y, y_pred, average='macro',multi_class='ovo')\n",
    "    Gini_index = 2*score_test - 1\n",
    "    \n",
    "    d = {'AUC': [round(score_test,4)], 'GINI': [round(Gini_index,4)]}\n",
    "    d = pd.DataFrame.from_dict(d)\n",
    "    return d\n",
    "\n",
    "def calculating_metrics(X_train, X_val, X_oot, y_train, y_val, y_oot):\n",
    "    test = create_measures(y_train,model.predict_proba(X_train)[:, 1])\n",
    "    val = create_measures(y_val,model.predict_proba(X_val)[:, 1])\n",
    "    oot = create_measures(y_oot,model.predict_proba(X_oot)[:, 1]) \n",
    "\n",
    "    measures =  pd.concat([test,val,oot]).set_index([pd.Index(['TRAIN', 'VAL', 'OOT'])]) \n",
    "    \n",
    "    return measures"
   ]
  },
  {
   "cell_type": "code",
   "execution_count": null,
   "metadata": {},
   "outputs": [],
   "source": [
    "#model = xgb.XGBClassifier(tree_method='gpu_hist')\n",
    "#model.fit(X_train, y_train)  "
   ]
  },
  {
   "cell_type": "code",
   "execution_count": 20,
   "metadata": {},
   "outputs": [],
   "source": [
    "X_test, X_val, y_test, y_val = train_test_split(X_test, y_test, test_size=0.5, random_state=2022)"
   ]
  },
  {
   "cell_type": "code",
   "execution_count": null,
   "metadata": {},
   "outputs": [],
   "source": [
    "# https://stackoverflow.com/questions/63303682/sklearn-multiclass-roc-auc-score\n",
    "#measures = calculating_metrics(X_train, X_test, X_val, y_train, y_test, y_val)\n",
    "#measures"
   ]
  },
  {
   "cell_type": "markdown",
   "metadata": {},
   "source": [
    "# REGRESJA"
   ]
  },
  {
   "cell_type": "markdown",
   "metadata": {},
   "source": [
    "Sprawdzenie czy wiek bez podziału na klasy poprawi wynik modelu"
   ]
  },
  {
   "cell_type": "code",
   "execution_count": 78,
   "metadata": {},
   "outputs": [],
   "source": [
    "def data_to_model(fold):\n",
    "    # ścieżka do folderów w którym są pliki .tar\n",
    "    path_to_name='_coh/fold={}'.format(fold)\n",
    "\n",
    "    # tworzenie listy nazw z plików .tar\n",
    "    name_fold=[x.split('/')[-1].split('.')[0] for x in sorted(glob.glob('{}/*.tar'.format(path_to_name)),key=numericalSort)]\n",
    "    \n",
    "    # wczytujemy zbiór danych\n",
    "    results=pd.read_csv('up_coh/up_fold={}/fold_{}.csv'.format(fold,fold))\n",
    "    \n",
    "    # tworzymy zbiór danych tylko dla pacjentów zdrowych gdzie klasa =0\n",
    "    results1=results[results['class']==0]\n",
    "    \n",
    "    # tworzenie listy z nazwami wszytskich plików .npy z wszytskich folderów\n",
    "    # tworznie kluczy do słownika\n",
    "    npy_files=[]\n",
    "    for n_fold in name_fold:\n",
    "        npy = [x for x in sorted(glob.glob('up_coh/up_fold={}/{}/*.npy'.format(fold,n_fold)),key=numericalSort)]\n",
    "        npy_files.extend(npy)\n",
    "    \n",
    "    # tworznie wartości do słownika\n",
    "    npy_v=['{}.data.npy'.format(x) for x in results['num'] ]\n",
    "    \n",
    "    # tworzenie słownika\n",
    "    dict_npy = dict(zip(npy_files,npy_v))\n",
    "    # tworzenie listy .npy gdzie klasa =0\n",
    "    npy_1=['{}.data.npy'.format(x) for x in results1['num'] ]\n",
    "    \n",
    "    # tworzenie listy ścieżek do plików .npy gdzie klasa =0 w celu pobrania odpowiednich plików .npy z folderów\n",
    "    list_name=[]\n",
    "    for key, value in dict_npy.items():\n",
    "        if value in npy_1:\n",
    "            list_name.append(key)\n",
    "    \n",
    "    # przygotowanie macierzy cech\n",
    "    X_train=[]\n",
    "    for x in list_name:\n",
    "        X_train.append(np.load('{}'.format(x)))\n",
    "    X=np.array(X_train)\n",
    "    \n",
    "    # przygotowanie targetu\n",
    "    y=results1['age']\n",
    "    \n",
    "    return X,y,results1"
   ]
  },
  {
   "cell_type": "code",
   "execution_count": 79,
   "metadata": {},
   "outputs": [],
   "source": [
    "# ładowanie danych dla wszytskich 'fold'ów' uwzględniając tylko pacjentów zdrowych\n",
    "X_fold1,y_fold1, df_fold1=data_to_model(1)\n",
    "X_fold2,y_fold2, df_fold2=data_to_model(2)\n",
    "X_fold3,y_fold3, df_fold3=data_to_model(3)\n",
    "X_fold4,y_fold4, df_fold4=data_to_model(4)\n",
    "X_fold5,y_fold5, df_fold5=data_to_model(5)\n",
    "X_fold6,y_fold6, df_fold6=data_to_model(6)"
   ]
  },
  {
   "cell_type": "code",
   "execution_count": 80,
   "metadata": {},
   "outputs": [],
   "source": [
    "X_all=np.concatenate((X_fold1, X_fold2, X_fold3, X_fold4, X_fold5, X_fold6))"
   ]
  },
  {
   "cell_type": "code",
   "execution_count": 81,
   "metadata": {},
   "outputs": [],
   "source": [
    "y_all=pd.concat((y_fold1, y_fold2, y_fold3, y_fold4, y_fold5, y_fold6))"
   ]
  },
  {
   "cell_type": "code",
   "execution_count": 82,
   "metadata": {},
   "outputs": [],
   "source": [
    "df_all=pd.concat((df_fold1, df_fold2, df_fold3, df_fold4, df_fold5, df_fold6))"
   ]
  },
  {
   "cell_type": "code",
   "execution_count": 83,
   "metadata": {},
   "outputs": [],
   "source": [
    "#df_all.head(5)"
   ]
  },
  {
   "cell_type": "code",
   "execution_count": 84,
   "metadata": {},
   "outputs": [
    {
     "data": {
      "text/plain": [
       "((21561, 1653), (21561,))"
      ]
     },
     "execution_count": 84,
     "metadata": {},
     "output_type": "execute_result"
    }
   ],
   "source": [
    "X_all.shape, y_all.shape"
   ]
  },
  {
   "cell_type": "code",
   "execution_count": 85,
   "metadata": {},
   "outputs": [],
   "source": [
    "X_train, X_test, y_train, y_test = train_test_split(X_all, y_all, test_size=0.3, random_state=2022)"
   ]
  },
  {
   "cell_type": "code",
   "execution_count": 86,
   "metadata": {},
   "outputs": [
    {
     "name": "stdout",
     "output_type": "stream",
     "text": [
      "Train: (15092, 1653) (15092,)\n",
      "Test: (6469, 1653) (6469,)\n"
     ]
    }
   ],
   "source": [
    "print(\"Train:\", X_train.shape, y_train.shape)\n",
    "print(\"Test:\", X_test.shape, y_test.shape)"
   ]
  },
  {
   "cell_type": "markdown",
   "metadata": {},
   "source": [
    "### Sprawdzenie rozkładu danych 'age'"
   ]
  },
  {
   "cell_type": "code",
   "execution_count": 87,
   "metadata": {},
   "outputs": [
    {
     "data": {
      "image/png": "[encoded data removed]",
      "text/plain": [
       "<Figure size 432x288 with 1 Axes>"
      ]
     },
     "metadata": {
      "needs_background": "light"
     },
     "output_type": "display_data"
    }
   ],
   "source": [
    "y_all.hist(bins=50);"
   ]
  },
  {
   "cell_type": "code",
   "execution_count": 88,
   "metadata": {},
   "outputs": [],
   "source": [
    "import pandas as pd\n",
    "import numpy as np\n",
    "np.random.seed(0)\n",
    "\n",
    "from sklearn.datasets import make_regression, make_classification\n",
    "from sklearn.model_selection import train_test_split, StratifiedKFold\n",
    "\n",
    "from sklearn.metrics import r2_score, f1_score\n",
    "from sklearn.metrics import mean_squared_error\n",
    "\n",
    "from sklearn.tree import DecisionTreeRegressor, DecisionTreeClassifier\n",
    "from sklearn.ensemble import RandomForestRegressor, RandomForestClassifier\n",
    "#import scikitplot as skplt\n",
    "#from scikitplot.estimators import plot_learning_curve\n",
    "\n",
    "\n",
    "import xgboost as xgb\n",
    "import lightgbm as lgb\n",
    "import catboost as ctb\n",
    "    \n",
    "import matplotlib.pyplot as plt\n",
    "%matplotlib inline"
   ]
  },
  {
   "cell_type": "markdown",
   "metadata": {},
   "source": [
    "### model DecisionTreeRegressor"
   ]
  },
  {
   "cell_type": "code",
   "execution_count": 57,
   "metadata": {},
   "outputs": [
    {
     "name": "stdout",
     "output_type": "stream",
     "text": [
      "CPU times: user 12.8 s, sys: 0 ns, total: 12.8 s\n",
      "Wall time: 12.8 s\n",
      "CPU times: user 13.1 ms, sys: 0 ns, total: 13.1 ms\n",
      "Wall time: 12.7 ms\n"
     ]
    },
    {
     "data": {
      "text/plain": [
       "0.2868627800425567"
      ]
     },
     "execution_count": 57,
     "metadata": {},
     "output_type": "execute_result"
    },
    {
     "data": {
      "image/png": "[encoded data removed]",
      "text/plain": [
       "<Figure size 432x288 with 1 Axes>"
      ]
     },
     "metadata": {
      "needs_background": "light"
     },
     "output_type": "display_data"
    }
   ],
   "source": [
    "model = DecisionTreeRegressor(random_state=2022, max_depth=5)\n",
    "\n",
    "%time model.fit(X_train, y_train)\n",
    "%time y_pred = model.predict(X_test)\n",
    "\n",
    "plot_learning_curve(model, X, y, cv=3, random_state=2022, shuffle=True)\n",
    "\n",
    "r2_score(y_test, y_pred)"
   ]
  },
  {
   "cell_type": "code",
   "execution_count": 58,
   "metadata": {},
   "outputs": [
    {
     "data": {
      "image/png": "[encoded data removed]",
      "text/plain": [
       "<Figure size 432x288 with 1 Axes>"
      ]
     },
     "metadata": {
      "needs_background": "light"
     },
     "output_type": "display_data"
    }
   ],
   "source": [
    "plt.hist(y_test - y_pred, bins=50);"
   ]
  },
  {
   "cell_type": "markdown",
   "metadata": {},
   "source": [
    "### model RandomForestRegressor"
   ]
  },
  {
   "cell_type": "code",
   "execution_count": 59,
   "metadata": {},
   "outputs": [
    {
     "name": "stdout",
     "output_type": "stream",
     "text": [
      "CPU times: user 1min 16s, sys: 3.9 ms, total: 1min 16s\n",
      "Wall time: 1min 16s\n",
      "CPU times: user 14.3 ms, sys: 0 ns, total: 14.3 ms\n",
      "Wall time: 14 ms\n"
     ]
    },
    {
     "data": {
      "text/plain": [
       "0.35567632118411385"
      ]
     },
     "execution_count": 59,
     "metadata": {},
     "output_type": "execute_result"
    },
    {
     "data": {
      "image/png": "[encoded data removed]",
      "text/plain": [
       "<Figure size 432x288 with 1 Axes>"
      ]
     },
     "metadata": {
      "needs_background": "light"
     },
     "output_type": "display_data"
    }
   ],
   "source": [
    "model = RandomForestRegressor(random_state=2022, n_estimators=10, max_depth=5)\n",
    "\n",
    "%time model.fit(X_train, y_train)\n",
    "%time y_pred = model.predict(X_test)\n",
    "\n",
    "plot_learning_curve(model, X, y, cv=3, random_state=2022, shuffle=True)\n",
    "\n",
    "r2_score(y_test, y_pred)"
   ]
  },
  {
   "cell_type": "code",
   "execution_count": 60,
   "metadata": {},
   "outputs": [
    {
     "data": {
      "image/png": "[encoded data removed]",
      "text/plain": [
       "<Figure size 432x288 with 1 Axes>"
      ]
     },
     "metadata": {
      "needs_background": "light"
     },
     "output_type": "display_data"
    }
   ],
   "source": [
    "plt.hist(y_test - y_pred, bins=50);"
   ]
  },
  {
   "cell_type": "markdown",
   "metadata": {},
   "source": [
    "### model XGBRegressor"
   ]
  },
  {
   "cell_type": "code",
   "execution_count": 61,
   "metadata": {},
   "outputs": [
    {
     "data": {
      "text/plain": [
       "XGBRegressor(base_score=None, booster=None, colsample_bylevel=None,\n",
       "             colsample_bynode=None, colsample_bytree=None, gamma=None,\n",
       "             gpu_id=None, importance_type='gain', interaction_constraints=None,\n",
       "             learning_rate=None, max_delta_step=None, max_depth=None,\n",
       "             min_child_weight=None, missing=nan, monotone_constraints=None,\n",
       "             n_estimators=100, n_jobs=None, num_parallel_tree=None,\n",
       "             random_state=0, reg_alpha=None, reg_lambda=None,\n",
       "             scale_pos_weight=None, subsample=None, tree_method=None,\n",
       "             validate_parameters=None, verbosity=None)"
      ]
     },
     "execution_count": 61,
     "metadata": {},
     "output_type": "execute_result"
    }
   ],
   "source": [
    "model = xgb.XGBRegressor(objective ='reg:squarederror', n_estimators=100, random_state=2022)\n",
    "model"
   ]
  },
  {
   "cell_type": "code",
   "execution_count": 62,
   "metadata": {},
   "outputs": [
    {
     "name": "stdout",
     "output_type": "stream",
     "text": [
      "CPU times: user 18min 35s, sys: 767 ms, total: 18min 36s\n",
      "Wall time: 2min 20s\n",
      "CPU times: user 388 ms, sys: 32 ms, total: 420 ms\n",
      "Wall time: 86.3 ms\n"
     ]
    },
    {
     "data": {
      "text/plain": [
       "0.5412161105251329"
      ]
     },
     "execution_count": 62,
     "metadata": {},
     "output_type": "execute_result"
    },
    {
     "data": {
      "image/png": "[encoded data removed]",
      "text/plain": [
       "<Figure size 432x288 with 1 Axes>"
      ]
     },
     "metadata": {
      "needs_background": "light"
     },
     "output_type": "display_data"
    }
   ],
   "source": [
    "%time model.fit(X_train, y_train)\n",
    "%time y_pred = model.predict(X_test)\n",
    "\n",
    "plot_learning_curve(model, X, y, cv=3, random_state=2022, shuffle=True)\n",
    "\n",
    "r2_score(y_test, y_pred)plt.hist(y_test - y_pred, bins=50);"
   ]
  },
  {
   "cell_type": "code",
   "execution_count": 63,
   "metadata": {},
   "outputs": [
    {
     "data": {
      "image/png": "[encoded data removed]",
      "text/plain": [
       "<Figure size 432x288 with 1 Axes>"
      ]
     },
     "metadata": {
      "needs_background": "light"
     },
     "output_type": "display_data"
    }
   ],
   "source": [
    "plt.hist(y_test - y_pred, bins=50);"
   ]
  },
  {
   "cell_type": "markdown",
   "metadata": {},
   "source": [
    "### model CatBoostRegressor"
   ]
  },
  {
   "cell_type": "code",
   "execution_count": 64,
   "metadata": {},
   "outputs": [
    {
     "name": "stdout",
     "output_type": "stream",
     "text": [
      "CPU times: user 1min 7s, sys: 1.2 s, total: 1min 8s\n",
      "Wall time: 11.9 s\n",
      "CPU times: user 413 ms, sys: 1e+03 ns, total: 413 ms\n",
      "Wall time: 382 ms\n"
     ]
    },
    {
     "data": {
      "text/plain": [
       "0.5420487025504264"
      ]
     },
     "execution_count": 64,
     "metadata": {},
     "output_type": "execute_result"
    },
    {
     "data": {
      "image/png": "[encoded data removed]",
      "text/plain": [
       "<Figure size 432x288 with 1 Axes>"
      ]
     },
     "metadata": {
      "needs_background": "light"
     },
     "output_type": "display_data"
    }
   ],
   "source": [
    "model = ctb.CatBoostRegressor(n_estimators=100, depth=5, random_state=2022, verbose=False)\n",
    "\n",
    "%time model.fit(X_train, y_train)\n",
    "%time y_pred = model.predict(X_test)\n",
    "\n",
    "plot_learning_curve(model, X, y, cv=3, random_state=2022, shuffle=True)\n",
    "\n",
    "r2_score(y_test, y_pred)"
   ]
  },
  {
   "cell_type": "code",
   "execution_count": 65,
   "metadata": {},
   "outputs": [
    {
     "data": {
      "image/png": "[encoded data removed]",
      "text/plain": [
       "<Figure size 432x288 with 1 Axes>"
      ]
     },
     "metadata": {
      "needs_background": "light"
     },
     "output_type": "display_data"
    }
   ],
   "source": [
    "plt.hist(y_test - y_pred, bins=50);"
   ]
  },
  {
   "cell_type": "markdown",
   "metadata": {},
   "source": [
    "### Zapisanie X_train do DataFrame"
   ]
  },
  {
   "cell_type": "code",
   "execution_count": 89,
   "metadata": {},
   "outputs": [
    {
     "data": {
      "text/plain": [
       "numpy.ndarray"
      ]
     },
     "execution_count": 89,
     "metadata": {},
     "output_type": "execute_result"
    }
   ],
   "source": [
    "type(X_test)"
   ]
  },
  {
   "cell_type": "code",
   "execution_count": 90,
   "metadata": {},
   "outputs": [],
   "source": [
    "df_X_train = pd.DataFrame.from_records(X_train)"
   ]
  },
  {
   "cell_type": "code",
   "execution_count": 91,
   "metadata": {},
   "outputs": [
    {
     "name": "stdout",
     "output_type": "stream",
     "text": [
      "<class 'pandas.core.frame.DataFrame'>\n",
      "RangeIndex: 15092 entries, 0 to 15091\n",
      "Columns: 1653 entries, 0 to 1652\n",
      "dtypes: float32(1653)\n",
      "memory usage: 95.2 MB\n"
     ]
    }
   ],
   "source": [
    "df_X_train.info()"
   ]
  },
  {
   "cell_type": "code",
   "execution_count": 92,
   "metadata": {},
   "outputs": [
    {
     "data": {
      "text/html": [
       "<div>\n",
       "<style scoped>\n",
       "    .dataframe tbody tr th:only-of-type {\n",
       "        vertical-align: middle;\n",
       "    }\n",
       "\n",
       "    .dataframe tbody tr th {\n",
       "        vertical-align: top;\n",
       "    }\n",
       "\n",
       "    .dataframe thead th {\n",
       "        text-align: right;\n",
       "    }\n",
       "</style>\n",
       "<table border=\"1\" class=\"dataframe\">\n",
       "  <thead>\n",
       "    <tr style=\"text-align: right;\">\n",
       "      <th></th>\n",
       "      <th>0</th>\n",
       "      <th>1</th>\n",
       "      <th>2</th>\n",
       "      <th>3</th>\n",
       "      <th>4</th>\n",
       "      <th>5</th>\n",
       "      <th>6</th>\n",
       "      <th>7</th>\n",
       "      <th>8</th>\n",
       "      <th>9</th>\n",
       "      <th>...</th>\n",
       "      <th>1643</th>\n",
       "      <th>1644</th>\n",
       "      <th>1645</th>\n",
       "      <th>1646</th>\n",
       "      <th>1647</th>\n",
       "      <th>1648</th>\n",
       "      <th>1649</th>\n",
       "      <th>1650</th>\n",
       "      <th>1651</th>\n",
       "      <th>1652</th>\n",
       "    </tr>\n",
       "  </thead>\n",
       "  <tbody>\n",
       "    <tr>\n",
       "      <th>0</th>\n",
       "      <td>0.948392</td>\n",
       "      <td>0.807233</td>\n",
       "      <td>0.634927</td>\n",
       "      <td>0.795152</td>\n",
       "      <td>0.689951</td>\n",
       "      <td>0.808429</td>\n",
       "      <td>0.360581</td>\n",
       "      <td>0.324411</td>\n",
       "      <td>0.274222</td>\n",
       "      <td>0.485078</td>\n",
       "      <td>...</td>\n",
       "      <td>0.036672</td>\n",
       "      <td>0.041285</td>\n",
       "      <td>0.045557</td>\n",
       "      <td>0.045326</td>\n",
       "      <td>0.062304</td>\n",
       "      <td>0.065491</td>\n",
       "      <td>0.038242</td>\n",
       "      <td>0.014110</td>\n",
       "      <td>0.018287</td>\n",
       "      <td>0.013729</td>\n",
       "    </tr>\n",
       "    <tr>\n",
       "      <th>1</th>\n",
       "      <td>0.746620</td>\n",
       "      <td>0.575926</td>\n",
       "      <td>0.214289</td>\n",
       "      <td>0.517099</td>\n",
       "      <td>0.307934</td>\n",
       "      <td>0.401059</td>\n",
       "      <td>0.521206</td>\n",
       "      <td>0.516610</td>\n",
       "      <td>0.191877</td>\n",
       "      <td>0.430831</td>\n",
       "      <td>...</td>\n",
       "      <td>0.036164</td>\n",
       "      <td>0.023736</td>\n",
       "      <td>0.016015</td>\n",
       "      <td>0.011243</td>\n",
       "      <td>0.011759</td>\n",
       "      <td>0.008217</td>\n",
       "      <td>0.004201</td>\n",
       "      <td>0.002672</td>\n",
       "      <td>0.003413</td>\n",
       "      <td>0.002757</td>\n",
       "    </tr>\n",
       "  </tbody>\n",
       "</table>\n",
       "<p>2 rows × 1653 columns</p>\n",
       "</div>"
      ],
      "text/plain": [
       "       0         1         2         3         4         5         6     \\\n",
       "0  0.948392  0.807233  0.634927  0.795152  0.689951  0.808429  0.360581   \n",
       "1  0.746620  0.575926  0.214289  0.517099  0.307934  0.401059  0.521206   \n",
       "\n",
       "       7         8         9     ...      1643      1644      1645      1646  \\\n",
       "0  0.324411  0.274222  0.485078  ...  0.036672  0.041285  0.045557  0.045326   \n",
       "1  0.516610  0.191877  0.430831  ...  0.036164  0.023736  0.016015  0.011243   \n",
       "\n",
       "       1647      1648      1649      1650      1651      1652  \n",
       "0  0.062304  0.065491  0.038242  0.014110  0.018287  0.013729  \n",
       "1  0.011759  0.008217  0.004201  0.002672  0.003413  0.002757  \n",
       "\n",
       "[2 rows x 1653 columns]"
      ]
     },
     "execution_count": 92,
     "metadata": {},
     "output_type": "execute_result"
    }
   ],
   "source": [
    "df_X_train.head(2)"
   ]
  },
  {
   "cell_type": "markdown",
   "metadata": {},
   "source": [
    "#### sprawdzenie rozkładu dla poszczegolnych cech"
   ]
  },
  {
   "cell_type": "code",
   "execution_count": 24,
   "metadata": {},
   "outputs": [
    {
     "data": {
      "image/png": "[encoded data removed]",
      "text/plain": [
       "<Figure size 432x288 with 1 Axes>"
      ]
     },
     "metadata": {
      "needs_background": "light"
     },
     "output_type": "display_data"
    }
   ],
   "source": [
    "plt.hist(df_X_train[0], bins=50);"
   ]
  },
  {
   "cell_type": "code",
   "execution_count": 27,
   "metadata": {},
   "outputs": [
    {
     "data": {
      "image/png": "[encoded data removed]",
      "text/plain": [
       "<Figure size 432x288 with 1 Axes>"
      ]
     },
     "metadata": {
      "needs_background": "light"
     },
     "output_type": "display_data"
    }
   ],
   "source": [
    "plt.hist(df_X_train[1], bins=50);"
   ]
  },
  {
   "cell_type": "code",
   "execution_count": 28,
   "metadata": {},
   "outputs": [
    {
     "data": {
      "image/png": "[encoded data removed]",
      "text/plain": [
       "<Figure size 432x288 with 1 Axes>"
      ]
     },
     "metadata": {
      "needs_background": "light"
     },
     "output_type": "display_data"
    }
   ],
   "source": [
    "plt.hist(df_X_train[2], bins=50);"
   ]
  },
  {
   "cell_type": "code",
   "execution_count": 29,
   "metadata": {},
   "outputs": [
    {
     "data": {
      "image/png": "[encoded data removed]",
      "text/plain": [
       "<Figure size 432x288 with 1 Axes>"
      ]
     },
     "metadata": {
      "needs_background": "light"
     },
     "output_type": "display_data"
    }
   ],
   "source": [
    "plt.hist(df_X_train[3], bins=50);"
   ]
  },
  {
   "cell_type": "code",
   "execution_count": 30,
   "metadata": {},
   "outputs": [
    {
     "data": {
      "image/png": "[encoded data removed]",
      "text/plain": [
       "<Figure size 432x288 with 1 Axes>"
      ]
     },
     "metadata": {
      "needs_background": "light"
     },
     "output_type": "display_data"
    }
   ],
   "source": [
    "plt.hist(df_X_train[4], bins=50);"
   ]
  },
  {
   "cell_type": "code",
   "execution_count": 31,
   "metadata": {},
   "outputs": [
    {
     "data": {
      "image/png": "[encoded data removed]",
      "text/plain": [
       "<Figure size 432x288 with 1 Axes>"
      ]
     },
     "metadata": {
      "needs_background": "light"
     },
     "output_type": "display_data"
    }
   ],
   "source": [
    "plt.hist(df_X_train[5], bins=50);"
   ]
  },
  {
   "cell_type": "code",
   "execution_count": 32,
   "metadata": {},
   "outputs": [
    {
     "data": {
      "image/png": "[encoded data removed]",
      "text/plain": [
       "<Figure size 432x288 with 1 Axes>"
      ]
     },
     "metadata": {
      "needs_background": "light"
     },
     "output_type": "display_data"
    }
   ],
   "source": [
    "plt.hist(df_X_train[6], bins=50);"
   ]
  },
  {
   "cell_type": "code",
   "execution_count": 36,
   "metadata": {},
   "outputs": [
    {
     "data": {
      "image/png": "[encoded data removed]",
      "text/plain": [
       "<Figure size 432x288 with 1 Axes>"
      ]
     },
     "metadata": {
      "needs_background": "light"
     },
     "output_type": "display_data"
    }
   ],
   "source": [
    "plt.hist(df_X_train[7], bins=50);"
   ]
  },
  {
   "cell_type": "code",
   "execution_count": 44,
   "metadata": {},
   "outputs": [
    {
     "data": {
      "image/png": "[encoded data removed]",
      "text/plain": [
       "<Figure size 432x288 with 1 Axes>"
      ]
     },
     "metadata": {
      "needs_background": "light"
     },
     "output_type": "display_data"
    }
   ],
   "source": [
    "plt.hist(df_X_train[8], bins=50);"
   ]
  },
  {
   "cell_type": "markdown",
   "metadata": {},
   "source": [
    "#### Sprawdzenie rozkładu dla większej ilosći cech jednocześnie"
   ]
  },
  {
   "cell_type": "code",
   "execution_count": 25,
   "metadata": {},
   "outputs": [
    {
     "data": {
      "image/png": "[encoded data removed]",
      "text/plain": [
       "<Figure size 432x288 with 1 Axes>"
      ]
     },
     "metadata": {
      "needs_background": "light"
     },
     "output_type": "display_data"
    }
   ],
   "source": [
    "for x in range(10):\n",
    "    plt.hist(df_X_train[x], bins=50);"
   ]
  },
  {
   "cell_type": "code",
   "execution_count": 26,
   "metadata": {},
   "outputs": [
    {
     "data": {
      "image/png": "[encoded data removed]",
      "text/plain": [
       "<Figure size 432x288 with 1 Axes>"
      ]
     },
     "metadata": {
      "needs_background": "light"
     },
     "output_type": "display_data"
    }
   ],
   "source": [
    "for x in range(10,20):\n",
    "    plt.hist(df_X_train[x], bins=50);"
   ]
  },
  {
   "cell_type": "code",
   "execution_count": 45,
   "metadata": {},
   "outputs": [
    {
     "data": {
      "image/png": "[encoded data removed]",
      "text/plain": [
       "<Figure size 432x288 with 1 Axes>"
      ]
     },
     "metadata": {
      "needs_background": "light"
     },
     "output_type": "display_data"
    }
   ],
   "source": [
    "for x in range(20,30):\n",
    "    plt.hist(df_X_train[x], bins=50);"
   ]
  },
  {
   "cell_type": "code",
   "execution_count": 46,
   "metadata": {},
   "outputs": [
    {
     "data": {
      "image/png": "[encoded data removed]",
      "text/plain": [
       "<Figure size 432x288 with 1 Axes>"
      ]
     },
     "metadata": {
      "needs_background": "light"
     },
     "output_type": "display_data"
    }
   ],
   "source": [
    "for x in range(30,40):\n",
    "    plt.hist(df_X_train[x], bins=50);"
   ]
  },
  {
   "cell_type": "markdown",
   "metadata": {},
   "source": [
    "### Sprawdzenie czy optymalizacja hiperparametrów modelu poprawi wyniki"
   ]
  },
  {
   "cell_type": "code",
   "execution_count": 34,
   "metadata": {},
   "outputs": [],
   "source": [
    "# https://www.kaggle.com/code/sumitdewang/sumit-dewang-bike-sharing-rental-demand"
   ]
  },
  {
   "cell_type": "code",
   "execution_count": 130,
   "metadata": {},
   "outputs": [],
   "source": [
    "import pandas as pd\n",
    "import numpy as np\n",
    "\n",
    "#Visualization\n",
    "import matplotlib.pyplot as plt\n",
    "import seaborn as sns\n",
    "\n",
    "from sklearn.model_selection import train_test_split\n",
    "from sklearn.linear_model import LinearRegression,Ridge\n",
    "\n",
    "# For Scaling\n",
    "from sklearn.preprocessing import MinMaxScaler, StandardScaler\n",
    "\n",
    "from sklearn.neighbors import KNeighborsRegressor\n",
    "from sklearn.model_selection import GridSearchCV,RandomizedSearchCV\n",
    "from sklearn.tree import DecisionTreeRegressor,plot_tree\n",
    "from sklearn.ensemble import  RandomForestRegressor, AdaBoostRegressor\n",
    "from sklearn.naive_bayes import BernoulliNB, GaussianNB,MultinomialNB\n",
    "from xgboost import XGBRegressor,XGBRFRegressor\n",
    "\n",
    "#Evaluation\n",
    "from sklearn.metrics import mean_squared_error,mean_absolute_error,r2_score\n"
   ]
  },
  {
   "cell_type": "markdown",
   "metadata": {},
   "source": [
    "### model Linear Regression"
   ]
  },
  {
   "cell_type": "code",
   "execution_count": 18,
   "metadata": {},
   "outputs": [
    {
     "data": {
      "text/plain": [
       "LinearRegression()"
      ]
     },
     "execution_count": 18,
     "metadata": {},
     "output_type": "execute_result"
    }
   ],
   "source": [
    "lr_model = LinearRegression()\n",
    "lr_model.fit(X_train,y_train)"
   ]
  },
  {
   "cell_type": "code",
   "execution_count": 19,
   "metadata": {},
   "outputs": [
    {
     "data": {
      "text/plain": [
       "array([21.049217, 34.381737, 53.40461 , 28.975769, 30.96106 ],\n",
       "      dtype=float32)"
      ]
     },
     "execution_count": 19,
     "metadata": {},
     "output_type": "execute_result"
    }
   ],
   "source": [
    "y_pred = lr_model.predict(X_test)\n",
    "y_pred[5:10]"
   ]
  },
  {
   "cell_type": "code",
   "execution_count": 20,
   "metadata": {},
   "outputs": [
    {
     "data": {
      "text/plain": [
       "7241    22.073922\n",
       "4188    33.416667\n",
       "1192    50.500000\n",
       "3861    19.083333\n",
       "2817    17.666667\n",
       "Name: age, dtype: float64"
      ]
     },
     "execution_count": 20,
     "metadata": {},
     "output_type": "execute_result"
    }
   ],
   "source": [
    "y_test[5:10]"
   ]
  },
  {
   "cell_type": "code",
   "execution_count": 21,
   "metadata": {},
   "outputs": [
    {
     "name": "stdout",
     "output_type": "stream",
     "text": [
      "MSE : 88.02432411257897\n",
      "RMSE : 9.382127909625778\n",
      "MAE : 7.306081001375373\n",
      "R-Squared : 0.6415078265962636\n"
     ]
    }
   ],
   "source": [
    "# Training Data Evaluation\n",
    "\n",
    "y_pred_train = lr_model.predict(X_train)\n",
    "\n",
    "mse = mean_squared_error(y_train, y_pred_train)\n",
    "print(\"MSE :\",mse)\n",
    "\n",
    "rmse = np.sqrt(mse)\n",
    "print(\"RMSE :\",rmse)\n",
    "\n",
    "mae = mean_absolute_error(y_train, y_pred_train)\n",
    "print(\"MAE :\",mae)\n",
    "\n",
    "r2 = r2_score(y_train, y_pred_train)\n",
    "print('R-Squared :',r2)"
   ]
  },
  {
   "cell_type": "code",
   "execution_count": 22,
   "metadata": {},
   "outputs": [
    {
     "name": "stdout",
     "output_type": "stream",
     "text": [
      "MSE : 115.03936567356429\n",
      "RMSE : 10.725640571712455\n",
      "MAE : 8.367084280208474\n",
      "R-Squared : 0.532697959058093\n"
     ]
    }
   ],
   "source": [
    "# Testing Data Evaluation\n",
    "y_pred = lr_model.predict(X_test)\n",
    "\n",
    "mse = mean_squared_error(y_test, y_pred)\n",
    "print(\"MSE :\",mse)\n",
    "\n",
    "rmse = np.sqrt(mse)\n",
    "print(\"RMSE :\",rmse)\n",
    "\n",
    "mae = mean_absolute_error(y_test, y_pred)\n",
    "print(\"MAE :\",mae)\n",
    "\n",
    "r2 = r2_score(y_test, y_pred)\n",
    "print('R-Squared :',r2)"
   ]
  },
  {
   "cell_type": "markdown",
   "metadata": {},
   "source": [
    "Regularization"
   ]
  },
  {
   "cell_type": "code",
   "execution_count": 23,
   "metadata": {},
   "outputs": [
    {
     "data": {
      "text/plain": [
       "Ridge(alpha=0.08)"
      ]
     },
     "execution_count": 23,
     "metadata": {},
     "output_type": "execute_result"
    }
   ],
   "source": [
    "ridge_model = Ridge(alpha=0.08) #Alpha = Lambda >> Hyperparameter \n",
    "ridge_model.fit(X_train,y_train)"
   ]
  },
  {
   "cell_type": "code",
   "execution_count": 24,
   "metadata": {},
   "outputs": [
    {
     "name": "stdout",
     "output_type": "stream",
     "text": [
      "Testing MSE is: 88.48618271007449\n",
      "Testing R2 score is: 0.6396268386524129\n"
     ]
    }
   ],
   "source": [
    "# Training Data Accuracy\n",
    "y_pred_train = ridge_model.predict(X_train)\n",
    "\n",
    "mse = mean_squared_error(y_train,y_pred_train)\n",
    "print(\"Testing MSE is:\",mse)\n",
    "r2 = r2_score(y_train,y_pred_train)\n",
    "print(\"Testing R2 score is:\",r2)"
   ]
  },
  {
   "cell_type": "code",
   "execution_count": 25,
   "metadata": {},
   "outputs": [
    {
     "name": "stdout",
     "output_type": "stream",
     "text": [
      "Testing MSE is: 112.78513880403169\n",
      "Testing R2 score is: 0.541854866441152\n"
     ]
    }
   ],
   "source": [
    "# Testing data\n",
    "\n",
    "y_pred = ridge_model.predict(X_test)\n",
    "mse = mean_squared_error(y_test,y_pred)\n",
    "print(\"Testing MSE is:\",mse)\n",
    "r2 = r2_score(y_test,y_pred)\n",
    "print(\"Testing R2 score is:\",r2)"
   ]
  },
  {
   "cell_type": "markdown",
   "metadata": {},
   "source": [
    "### model Decision Tree"
   ]
  },
  {
   "cell_type": "code",
   "execution_count": 30,
   "metadata": {},
   "outputs": [
    {
     "data": {
      "text/plain": [
       "DecisionTreeRegressor()"
      ]
     },
     "execution_count": 30,
     "metadata": {},
     "output_type": "execute_result"
    }
   ],
   "source": [
    "dt_reg = DecisionTreeRegressor()\n",
    "dt_reg.fit(X_train,y_train)"
   ]
  },
  {
   "cell_type": "code",
   "execution_count": 31,
   "metadata": {},
   "outputs": [
    {
     "name": "stdout",
     "output_type": "stream",
     "text": [
      "MSE : 0.26759213758071243\n",
      "RMSE : 0.5172930867319923\n",
      "MAE : 0.019932961628787806\n",
      "R-Squared : 0.9989101911550679\n"
     ]
    }
   ],
   "source": [
    "# Training Data Evaluation\n",
    "\n",
    "y_pred_train = dt_reg.predict(X_train)\n",
    "\n",
    "mse = mean_squared_error(y_train, y_pred_train)\n",
    "print(\"MSE :\",mse)\n",
    "\n",
    "rmse = np.sqrt(mse)\n",
    "print(\"RMSE :\",rmse)\n",
    "\n",
    "mae = mean_absolute_error(y_train, y_pred_train)\n",
    "print(\"MAE :\",mae)\n",
    "\n",
    "r2 = r2_score(y_train, y_pred_train)\n",
    "print('R-Squared :',r2)"
   ]
  },
  {
   "cell_type": "code",
   "execution_count": 32,
   "metadata": {},
   "outputs": [
    {
     "name": "stdout",
     "output_type": "stream",
     "text": [
      "MSE : 263.7221576123653\n",
      "RMSE : 16.239524550071202\n",
      "MAE : 12.10149951009795\n",
      "R-Squared : -0.07126722902455374\n"
     ]
    }
   ],
   "source": [
    "# Testing Data Evaluation\n",
    "y_pred = dt_reg.predict(X_test)\n",
    "\n",
    "mse = mean_squared_error(y_test, y_pred)\n",
    "print(\"MSE :\",mse)\n",
    "\n",
    "rmse = np.sqrt(mse)\n",
    "print(\"RMSE :\",rmse)\n",
    "\n",
    "mae = mean_absolute_error(y_test, y_pred)\n",
    "print(\"MAE :\",mae)\n",
    "\n",
    "r2 = r2_score(y_test, y_pred)\n",
    "print('R-Squared :',r2)"
   ]
  },
  {
   "cell_type": "markdown",
   "metadata": {},
   "source": [
    "Hyperparameter Tunning for Decision Tree"
   ]
  },
  {
   "cell_type": "code",
   "execution_count": 34,
   "metadata": {},
   "outputs": [],
   "source": [
    "dt_reg = DecisionTreeRegressor()\n",
    "\n",
    "hyperparameters ={ \"criterion\" :['mse','mae'],\n",
    "     'max_depth': np.arange(3,14),\n",
    "     'min_samples_split' : np.arange(2,20),\n",
    "     'min_samples_leaf':np.arange(2,15)}\n",
    "\n",
    "#gscv_dt_reg = RandomizedSearchCV(dt_reg,hyperparameters, cv = 5,n_jobs=-1)\n",
    "#gscv_dt_reg.fit(X_train, y_train)\n",
    "#gscv_dt_reg.best_estimator_"
   ]
  },
  {
   "cell_type": "code",
   "execution_count": null,
   "metadata": {},
   "outputs": [],
   "source": [
    "dt_reg = gscv_dt_reg.best_estimator_\n",
    "dt_reg.fit(X_train, y_train)"
   ]
  },
  {
   "cell_type": "markdown",
   "metadata": {},
   "source": [
    "### model XGBoostRegressor"
   ]
  },
  {
   "cell_type": "code",
   "execution_count": 26,
   "metadata": {},
   "outputs": [
    {
     "data": {
      "text/plain": [
       "XGBRegressor(base_score=0.5, booster='gbtree', callbacks=None,\n",
       "             colsample_bylevel=1, colsample_bynode=1, colsample_bytree=1,\n",
       "             early_stopping_rounds=None, enable_categorical=False,\n",
       "             eval_metric=None, feature_types=None, gamma=0, gpu_id=-1,\n",
       "             grow_policy='depthwise', importance_type=None,\n",
       "             interaction_constraints='', learning_rate=0.300000012, max_bin=256,\n",
       "             max_cat_threshold=64, max_cat_to_onehot=4, max_delta_step=0,\n",
       "             max_depth=6, max_leaves=0, min_child_weight=1, missing=nan,\n",
       "             monotone_constraints='()', n_estimators=100, n_jobs=0,\n",
       "             num_parallel_tree=1, predictor='auto', random_state=0, ...)"
      ]
     },
     "execution_count": 26,
     "metadata": {},
     "output_type": "execute_result"
    }
   ],
   "source": [
    "xgb_reg = XGBRegressor()\n",
    "xgb_reg.fit(X_train,y_train)"
   ]
  },
  {
   "cell_type": "code",
   "execution_count": 27,
   "metadata": {},
   "outputs": [
    {
     "name": "stdout",
     "output_type": "stream",
     "text": [
      "MSE : 9.248963513869722\n",
      "RMSE : 3.0412108631053063\n",
      "MAE : 2.2557994143602156\n",
      "R-Squared Value is : 0.9623322182221086\n"
     ]
    }
   ],
   "source": [
    "# Training Data Evaluation\n",
    "y_pred_train = xgb_reg.predict(X_train)\n",
    "\n",
    "mse = mean_squared_error(y_train, y_pred_train)\n",
    "print(\"MSE :\",mse)\n",
    "\n",
    "rmse = np.sqrt(mse)\n",
    "print(\"RMSE :\",rmse)\n",
    "\n",
    "mae = mean_absolute_error(y_train, y_pred_train)\n",
    "print(\"MAE :\",mae)\n",
    "\n",
    "r2_value = r2_score(y_train, y_pred_train)\n",
    "print(\"R-Squared Value is :\",r2_value)"
   ]
  },
  {
   "cell_type": "code",
   "execution_count": 28,
   "metadata": {},
   "outputs": [
    {
     "name": "stdout",
     "output_type": "stream",
     "text": [
      "MSE : 112.94238629914418\n",
      "RMSE : 10.627435546694421\n",
      "MAE : 8.143869198879969\n",
      "R-Squared : 0.5412161105251329\n"
     ]
    }
   ],
   "source": [
    "# Testing Data Evaluation\n",
    "y_pred = xgb_reg.predict(X_test)\n",
    "\n",
    "mse = mean_squared_error(y_test, y_pred)\n",
    "print(\"MSE :\",mse)\n",
    "\n",
    "rmse = np.sqrt(mse)\n",
    "print(\"RMSE :\",rmse)\n",
    "\n",
    "mae = mean_absolute_error(y_test, y_pred)\n",
    "print(\"MAE :\",mae)\n",
    "\n",
    "r2 = r2_score(y_test, y_pred)\n",
    "print('R-Squared :',r2)"
   ]
  },
  {
   "cell_type": "code",
   "execution_count": 29,
   "metadata": {},
   "outputs": [
    {
     "data": {
      "text/plain": [
       "array([41.197613, 34.226883, 60.85134 , 41.656998, 35.986813],\n",
       "      dtype=float32)"
      ]
     },
     "execution_count": 29,
     "metadata": {},
     "output_type": "execute_result"
    }
   ],
   "source": [
    "y_pred[950:955]"
   ]
  },
  {
   "cell_type": "code",
   "execution_count": 30,
   "metadata": {},
   "outputs": [
    {
     "data": {
      "text/plain": [
       "2793    40.583333\n",
       "1185    47.000000\n",
       "5882    53.500000\n",
       "1343    29.666667\n",
       "1385    21.750000\n",
       "Name: age, dtype: float64"
      ]
     },
     "execution_count": 30,
     "metadata": {},
     "output_type": "execute_result"
    }
   ],
   "source": [
    "y_test[950:955]"
   ]
  },
  {
   "cell_type": "code",
   "execution_count": 31,
   "metadata": {},
   "outputs": [
    {
     "data": {
      "image/png": "[encoded data removed]",
      "text/plain": [
       "<Figure size 432x288 with 1 Axes>"
      ]
     },
     "metadata": {
      "needs_background": "light"
     },
     "output_type": "display_data"
    }
   ],
   "source": [
    "y_test.hist(bins=50);"
   ]
  },
  {
   "cell_type": "code",
   "execution_count": 32,
   "metadata": {},
   "outputs": [
    {
     "data": {
      "image/png": "[encoded data removed]",
      "text/plain": [
       "<Figure size 432x288 with 1 Axes>"
      ]
     },
     "metadata": {
      "needs_background": "light"
     },
     "output_type": "display_data"
    }
   ],
   "source": [
    "pd.Series(y_pred).hist(bins=50);"
   ]
  },
  {
   "cell_type": "markdown",
   "metadata": {},
   "source": [
    "Hyper parameter tuning XGBoost"
   ]
  },
  {
   "cell_type": "code",
   "execution_count": 14,
   "metadata": {},
   "outputs": [],
   "source": [
    "space ={\n",
    "    'learning_rate': hp.uniform ('x_learning_rate', 0.01, 0.5),\n",
    "    'max_depth': hp.quniform ('x_max_depth', 1, 9, 1),\n",
    "    'n_estimators': hp.quniform ('x_n_estimators', 100, 1000, 50),\n",
    "    'min_child_weight': hp.quniform ('x_min_child_weight', 0, 100, 1),\n",
    "    'gamma': hp.loguniform ('x_gamma', 0.0, 2.0),\n",
    "    'subsample': hp.uniform ('x_subsample', 0.5, 1.0),    \n",
    "    'colsample_bytree': hp.uniform ('x_colsample_bytree', 0.5, 1.0),\n",
    "    'colsample_bylevel': hp.uniform ('x_colsample_bylevel', 0.5, 1.0),\n",
    "    'reg_alpha': hp.loguniform ('x_reg_alpha', 0.0, 2.0),\n",
    "    'reg_lambda': hp.loguniform ('x_reg_lambda', 0.0, 2.0),\n",
    "}"
   ]
  },
  {
   "cell_type": "code",
   "execution_count": 15,
   "metadata": {},
   "outputs": [],
   "source": [
    "def objective(space):\n",
    "    xgb_params = {\n",
    "        # ogólne\n",
    "        'learning_rate': space['learning_rate'],\n",
    "        'max_depth': int(space['max_depth']),\n",
    "        'n_estimators': int(space['n_estimators']),\n",
    "        'min_child_weight': int(space['min_child_weight']),\n",
    "        'gamma': space['gamma'],\n",
    "        'seed': 2022,\n",
    "        # do walki z overfiting\n",
    "        'subsample': space['subsample'],\n",
    "        'colsample_bytree': space['colsample_bytree'],\n",
    "        'colsample_bylevel': space['colsample_bylevel'],\n",
    "        # regularyzacja\n",
    "        'reg_alpha': space['reg_alpha'],\n",
    "        'reg_lambda': space['reg_lambda'],\n",
    "        # pozostałe\n",
    "        'objective': 'reg:squarederror'\n",
    "    }\n",
    "\n",
    "    model = xgb.XGBRegressor(**xgb_params)\n",
    "    model.fit(X_train, y_train)\n",
    "    y_pred = model.predict(X_test)\n",
    "    \n",
    "    score = mean_squared_error(y_test, y_pred)\n",
    "    \n",
    "    return{'loss':score, 'status': STATUS_OK }"
   ]
  },
  {
   "cell_type": "code",
   "execution_count": 16,
   "metadata": {},
   "outputs": [
    {
     "name": "stdout",
     "output_type": "stream",
     "text": [
      "100%|███████████████████████████████████████████████████████████████████████████| 30/30 [2:22:18<00:00, 284.61s/trial, best loss: 93.20454172680371]\n",
      "The best params:  {'x_colsample_bylevel': 0.8809205445237085, 'x_colsample_bytree': 0.7743769616778238, 'x_gamma': 1.5449434645908333, 'x_learning_rate': 0.04550027852677481, 'x_max_depth': 6.0, 'x_min_child_weight': 82.0, 'x_n_estimators': 950.0, 'x_reg_alpha': 3.2712584573057533, 'x_reg_lambda': 2.571329345063856, 'x_subsample': 0.6133804632546268}\n"
     ]
    }
   ],
   "source": [
    "trials = Trials()\n",
    "best_params = fmin(fn=objective,\n",
    "            space=space,\n",
    "            algo=partial(tpe.suggest, n_startup_jobs=1),\n",
    "            max_evals=30,\n",
    "            trials=trials)\n",
    "\n",
    "print(\"The best params: \", best_params)"
   ]
  },
  {
   "cell_type": "code",
   "execution_count": 18,
   "metadata": {},
   "outputs": [],
   "source": [
    "best_params=trials.best_trial"
   ]
  },
  {
   "cell_type": "code",
   "execution_count": 19,
   "metadata": {},
   "outputs": [
    {
     "data": {
      "text/plain": [
       "{'state': 2,\n",
       " 'tid': 24,\n",
       " 'spec': None,\n",
       " 'result': {'loss': 93.20454172680371, 'status': 'ok'},\n",
       " 'misc': {'tid': 24,\n",
       "  'cmd': ('domain_attachment', 'FMinIter_Domain'),\n",
       "  'workdir': None,\n",
       "  'idxs': {'x_colsample_bylevel': [24],\n",
       "   'x_colsample_bytree': [24],\n",
       "   'x_gamma': [24],\n",
       "   'x_learning_rate': [24],\n",
       "   'x_max_depth': [24],\n",
       "   'x_min_child_weight': [24],\n",
       "   'x_n_estimators': [24],\n",
       "   'x_reg_alpha': [24],\n",
       "   'x_reg_lambda': [24],\n",
       "   'x_subsample': [24]},\n",
       "  'vals': {'x_colsample_bylevel': [0.8809205445237085],\n",
       "   'x_colsample_bytree': [0.7743769616778238],\n",
       "   'x_gamma': [1.5449434645908333],\n",
       "   'x_learning_rate': [0.04550027852677481],\n",
       "   'x_max_depth': [6.0],\n",
       "   'x_min_child_weight': [82.0],\n",
       "   'x_n_estimators': [950.0],\n",
       "   'x_reg_alpha': [3.2712584573057533],\n",
       "   'x_reg_lambda': [2.571329345063856],\n",
       "   'x_subsample': [0.6133804632546268]}},\n",
       " 'exp_key': None,\n",
       " 'owner': None,\n",
       " 'version': 0,\n",
       " 'book_time': datetime.datetime(2022, 12, 21, 10, 36, 44, 248000),\n",
       " 'refresh_time': datetime.datetime(2022, 12, 21, 10, 43, 25, 494000)}"
      ]
     },
     "execution_count": 19,
     "metadata": {},
     "output_type": "execute_result"
    }
   ],
   "source": [
    "best_params"
   ]
  },
  {
   "cell_type": "code",
   "execution_count": 24,
   "metadata": {},
   "outputs": [
    {
     "name": "stdout",
     "output_type": "stream",
     "text": [
      "[12:43:25] WARNING: ../src/learner.cc:767: \n",
      "Parameters: { \"x_colsample_bylevel\", \"x_colsample_bytree\", \"x_gamma\", \"x_learning_rate\", \"x_max_depth\", \"x_min_child_weight\", \"x_n_estimators\", \"x_reg_alpha\", \"x_reg_lambda\", \"x_subsample\" } are not used.\n",
      "\n"
     ]
    },
    {
     "data": {
      "text/plain": [
       "XGBRegressor(base_score=0.5, booster='gbtree', callbacks=None,\n",
       "             colsample_bylevel=1, colsample_bynode=1, colsample_bytree=1,\n",
       "             early_stopping_rounds=None, enable_categorical=False,\n",
       "             eval_metric=None, feature_types=None, gamma=0, gpu_id=-1,\n",
       "             grow_policy='depthwise', importance_type=None,\n",
       "             interaction_constraints='', learning_rate=0.300000012, max_bin=256,\n",
       "             max_cat_threshold=64, max_cat_to_onehot=4, max_delta_step=0,\n",
       "             max_depth=6, max_leaves=0, min_child_weight=1, missing=nan,\n",
       "             monotone_constraints='()', n_estimators=100, n_jobs=0,\n",
       "             num_parallel_tree=1, predictor='auto', random_state=0, ...)"
      ]
     },
     "execution_count": 24,
     "metadata": {},
     "output_type": "execute_result"
    }
   ],
   "source": [
    "xgb_reg = XGBRegressor(**{'x_colsample_bylevel': 0.8809205445237085,\n",
    "   'x_colsample_bytree': 0.7743769616778238,\n",
    "   'x_gamma': 1.5449434645908333,\n",
    "   'x_learning_rate': 0.04550027852677481,\n",
    "   'x_max_depth': 6.0,\n",
    "   'x_min_child_weight': 82.0,\n",
    "   'x_n_estimators': 950.0,\n",
    "   'x_reg_alpha': 3.2712584573057533,\n",
    "   'x_reg_lambda': 2.571329345063856,\n",
    "   'x_subsample': 0.6133804632546268})\n",
    "xgb_reg.fit(X_train,y_train)"
   ]
  },
  {
   "cell_type": "code",
   "execution_count": 25,
   "metadata": {},
   "outputs": [
    {
     "name": "stdout",
     "output_type": "stream",
     "text": [
      "MSE : 9.248963513869722\n",
      "RMSE : 3.0412108631053063\n",
      "MAE : 2.2557994143602156\n",
      "R-Squared Value is : 0.9623322182221086\n"
     ]
    }
   ],
   "source": [
    "# Training Data Evaluation\n",
    "y_pred_train = xgb_reg.predict(X_train)\n",
    "\n",
    "mse = mean_squared_error(y_train, y_pred_train)\n",
    "print(\"MSE :\",mse)\n",
    "\n",
    "rmse = np.sqrt(mse)\n",
    "print(\"RMSE :\",rmse)\n",
    "\n",
    "mae = mean_absolute_error(y_train, y_pred_train)\n",
    "print(\"MAE :\",mae)\n",
    "\n",
    "r2_value = r2_score(y_train, y_pred_train)\n",
    "print(\"R-Squared Value is :\",r2_value)"
   ]
  },
  {
   "cell_type": "code",
   "execution_count": 26,
   "metadata": {},
   "outputs": [
    {
     "name": "stdout",
     "output_type": "stream",
     "text": [
      "MSE : 112.94238629914418\n",
      "RMSE : 10.627435546694421\n",
      "MAE : 8.143869198879969\n",
      "R-Squared : 0.5412161105251329\n"
     ]
    }
   ],
   "source": [
    "# Testing Data Evaluation\n",
    "y_pred = xgb_reg.predict(X_test)\n",
    "\n",
    "mse = mean_squared_error(y_test, y_pred)\n",
    "print(\"MSE :\",mse)\n",
    "\n",
    "rmse = np.sqrt(mse)\n",
    "print(\"RMSE :\",rmse)\n",
    "\n",
    "mae = mean_absolute_error(y_test, y_pred)\n",
    "print(\"MAE :\",mae)\n",
    "\n",
    "r2 = r2_score(y_test, y_pred)\n",
    "print('R-Squared :',r2)"
   ]
  },
  {
   "cell_type": "markdown",
   "metadata": {},
   "source": [
    "### Badanie cech"
   ]
  },
  {
   "cell_type": "code",
   "execution_count": 93,
   "metadata": {},
   "outputs": [
    {
     "data": {
      "text/html": [
       "<div>\n",
       "<style scoped>\n",
       "    .dataframe tbody tr th:only-of-type {\n",
       "        vertical-align: middle;\n",
       "    }\n",
       "\n",
       "    .dataframe tbody tr th {\n",
       "        vertical-align: top;\n",
       "    }\n",
       "\n",
       "    .dataframe thead th {\n",
       "        text-align: right;\n",
       "    }\n",
       "</style>\n",
       "<table border=\"1\" class=\"dataframe\">\n",
       "  <thead>\n",
       "    <tr style=\"text-align: right;\">\n",
       "      <th></th>\n",
       "      <th>0</th>\n",
       "      <th>1</th>\n",
       "      <th>2</th>\n",
       "      <th>3</th>\n",
       "      <th>4</th>\n",
       "      <th>5</th>\n",
       "      <th>6</th>\n",
       "      <th>7</th>\n",
       "      <th>8</th>\n",
       "      <th>9</th>\n",
       "      <th>...</th>\n",
       "      <th>1643</th>\n",
       "      <th>1644</th>\n",
       "      <th>1645</th>\n",
       "      <th>1646</th>\n",
       "      <th>1647</th>\n",
       "      <th>1648</th>\n",
       "      <th>1649</th>\n",
       "      <th>1650</th>\n",
       "      <th>1651</th>\n",
       "      <th>1652</th>\n",
       "    </tr>\n",
       "  </thead>\n",
       "  <tbody>\n",
       "    <tr>\n",
       "      <th>0</th>\n",
       "      <td>0.948392</td>\n",
       "      <td>0.807233</td>\n",
       "      <td>0.634927</td>\n",
       "      <td>0.795152</td>\n",
       "      <td>0.689951</td>\n",
       "      <td>0.808429</td>\n",
       "      <td>0.360581</td>\n",
       "      <td>0.324411</td>\n",
       "      <td>0.274222</td>\n",
       "      <td>0.485078</td>\n",
       "      <td>...</td>\n",
       "      <td>0.036672</td>\n",
       "      <td>0.041285</td>\n",
       "      <td>0.045557</td>\n",
       "      <td>0.045326</td>\n",
       "      <td>0.062304</td>\n",
       "      <td>0.065491</td>\n",
       "      <td>0.038242</td>\n",
       "      <td>0.014110</td>\n",
       "      <td>0.018287</td>\n",
       "      <td>0.013729</td>\n",
       "    </tr>\n",
       "    <tr>\n",
       "      <th>1</th>\n",
       "      <td>0.746620</td>\n",
       "      <td>0.575926</td>\n",
       "      <td>0.214289</td>\n",
       "      <td>0.517099</td>\n",
       "      <td>0.307934</td>\n",
       "      <td>0.401059</td>\n",
       "      <td>0.521206</td>\n",
       "      <td>0.516610</td>\n",
       "      <td>0.191877</td>\n",
       "      <td>0.430831</td>\n",
       "      <td>...</td>\n",
       "      <td>0.036164</td>\n",
       "      <td>0.023736</td>\n",
       "      <td>0.016015</td>\n",
       "      <td>0.011243</td>\n",
       "      <td>0.011759</td>\n",
       "      <td>0.008217</td>\n",
       "      <td>0.004201</td>\n",
       "      <td>0.002672</td>\n",
       "      <td>0.003413</td>\n",
       "      <td>0.002757</td>\n",
       "    </tr>\n",
       "    <tr>\n",
       "      <th>2</th>\n",
       "      <td>0.263161</td>\n",
       "      <td>0.330337</td>\n",
       "      <td>0.204795</td>\n",
       "      <td>0.338505</td>\n",
       "      <td>0.189303</td>\n",
       "      <td>0.249672</td>\n",
       "      <td>0.302185</td>\n",
       "      <td>0.193063</td>\n",
       "      <td>0.155043</td>\n",
       "      <td>0.248955</td>\n",
       "      <td>...</td>\n",
       "      <td>0.079305</td>\n",
       "      <td>0.154645</td>\n",
       "      <td>0.149967</td>\n",
       "      <td>0.050630</td>\n",
       "      <td>0.037759</td>\n",
       "      <td>0.033869</td>\n",
       "      <td>0.030550</td>\n",
       "      <td>0.022065</td>\n",
       "      <td>0.024785</td>\n",
       "      <td>0.018057</td>\n",
       "    </tr>\n",
       "    <tr>\n",
       "      <th>3</th>\n",
       "      <td>0.868039</td>\n",
       "      <td>0.547711</td>\n",
       "      <td>0.237430</td>\n",
       "      <td>0.635282</td>\n",
       "      <td>0.440689</td>\n",
       "      <td>0.450580</td>\n",
       "      <td>0.503887</td>\n",
       "      <td>0.498472</td>\n",
       "      <td>0.187754</td>\n",
       "      <td>0.762667</td>\n",
       "      <td>...</td>\n",
       "      <td>0.126880</td>\n",
       "      <td>0.556072</td>\n",
       "      <td>0.487204</td>\n",
       "      <td>0.115022</td>\n",
       "      <td>0.123168</td>\n",
       "      <td>0.067872</td>\n",
       "      <td>0.032030</td>\n",
       "      <td>0.013702</td>\n",
       "      <td>0.012321</td>\n",
       "      <td>0.007392</td>\n",
       "    </tr>\n",
       "    <tr>\n",
       "      <th>4</th>\n",
       "      <td>0.648348</td>\n",
       "      <td>0.581971</td>\n",
       "      <td>0.195540</td>\n",
       "      <td>0.197477</td>\n",
       "      <td>0.177909</td>\n",
       "      <td>0.185853</td>\n",
       "      <td>0.221986</td>\n",
       "      <td>0.203278</td>\n",
       "      <td>0.178148</td>\n",
       "      <td>0.704896</td>\n",
       "      <td>...</td>\n",
       "      <td>0.113671</td>\n",
       "      <td>0.627763</td>\n",
       "      <td>0.506492</td>\n",
       "      <td>0.031921</td>\n",
       "      <td>0.046025</td>\n",
       "      <td>0.042879</td>\n",
       "      <td>0.021318</td>\n",
       "      <td>0.008444</td>\n",
       "      <td>0.009730</td>\n",
       "      <td>0.007271</td>\n",
       "    </tr>\n",
       "  </tbody>\n",
       "</table>\n",
       "<p>5 rows × 1653 columns</p>\n",
       "</div>"
      ],
      "text/plain": [
       "       0         1         2         3         4         5         6     \\\n",
       "0  0.948392  0.807233  0.634927  0.795152  0.689951  0.808429  0.360581   \n",
       "1  0.746620  0.575926  0.214289  0.517099  0.307934  0.401059  0.521206   \n",
       "2  0.263161  0.330337  0.204795  0.338505  0.189303  0.249672  0.302185   \n",
       "3  0.868039  0.547711  0.237430  0.635282  0.440689  0.450580  0.503887   \n",
       "4  0.648348  0.581971  0.195540  0.197477  0.177909  0.185853  0.221986   \n",
       "\n",
       "       7         8         9     ...      1643      1644      1645      1646  \\\n",
       "0  0.324411  0.274222  0.485078  ...  0.036672  0.041285  0.045557  0.045326   \n",
       "1  0.516610  0.191877  0.430831  ...  0.036164  0.023736  0.016015  0.011243   \n",
       "2  0.193063  0.155043  0.248955  ...  0.079305  0.154645  0.149967  0.050630   \n",
       "3  0.498472  0.187754  0.762667  ...  0.126880  0.556072  0.487204  0.115022   \n",
       "4  0.203278  0.178148  0.704896  ...  0.113671  0.627763  0.506492  0.031921   \n",
       "\n",
       "       1647      1648      1649      1650      1651      1652  \n",
       "0  0.062304  0.065491  0.038242  0.014110  0.018287  0.013729  \n",
       "1  0.011759  0.008217  0.004201  0.002672  0.003413  0.002757  \n",
       "2  0.037759  0.033869  0.030550  0.022065  0.024785  0.018057  \n",
       "3  0.123168  0.067872  0.032030  0.013702  0.012321  0.007392  \n",
       "4  0.046025  0.042879  0.021318  0.008444  0.009730  0.007271  \n",
       "\n",
       "[5 rows x 1653 columns]"
      ]
     },
     "execution_count": 93,
     "metadata": {},
     "output_type": "execute_result"
    }
   ],
   "source": [
    "df_X_train.head(5)"
   ]
  },
  {
   "cell_type": "code",
   "execution_count": 94,
   "metadata": {},
   "outputs": [],
   "source": [
    "corr_=df_X_train.corr().abs()"
   ]
  },
  {
   "cell_type": "code",
   "execution_count": 95,
   "metadata": {},
   "outputs": [
    {
     "data": {
      "text/html": [
       "<div>\n",
       "<style scoped>\n",
       "    .dataframe tbody tr th:only-of-type {\n",
       "        vertical-align: middle;\n",
       "    }\n",
       "\n",
       "    .dataframe tbody tr th {\n",
       "        vertical-align: top;\n",
       "    }\n",
       "\n",
       "    .dataframe thead th {\n",
       "        text-align: right;\n",
       "    }\n",
       "</style>\n",
       "<table border=\"1\" class=\"dataframe\">\n",
       "  <thead>\n",
       "    <tr style=\"text-align: right;\">\n",
       "      <th></th>\n",
       "      <th>0</th>\n",
       "      <th>1</th>\n",
       "      <th>2</th>\n",
       "      <th>3</th>\n",
       "      <th>4</th>\n",
       "      <th>5</th>\n",
       "      <th>6</th>\n",
       "      <th>7</th>\n",
       "      <th>8</th>\n",
       "      <th>9</th>\n",
       "      <th>...</th>\n",
       "      <th>1643</th>\n",
       "      <th>1644</th>\n",
       "      <th>1645</th>\n",
       "      <th>1646</th>\n",
       "      <th>1647</th>\n",
       "      <th>1648</th>\n",
       "      <th>1649</th>\n",
       "      <th>1650</th>\n",
       "      <th>1651</th>\n",
       "      <th>1652</th>\n",
       "    </tr>\n",
       "  </thead>\n",
       "  <tbody>\n",
       "    <tr>\n",
       "      <th>0</th>\n",
       "      <td>1.000000</td>\n",
       "      <td>0.205268</td>\n",
       "      <td>0.323254</td>\n",
       "      <td>0.098657</td>\n",
       "      <td>0.454400</td>\n",
       "      <td>0.143514</td>\n",
       "      <td>0.319020</td>\n",
       "      <td>0.343343</td>\n",
       "      <td>0.166918</td>\n",
       "      <td>0.271784</td>\n",
       "      <td>...</td>\n",
       "      <td>0.099010</td>\n",
       "      <td>0.013987</td>\n",
       "      <td>0.029139</td>\n",
       "      <td>0.152129</td>\n",
       "      <td>0.176473</td>\n",
       "      <td>0.185391</td>\n",
       "      <td>0.187284</td>\n",
       "      <td>0.175161</td>\n",
       "      <td>0.129718</td>\n",
       "      <td>0.108374</td>\n",
       "    </tr>\n",
       "    <tr>\n",
       "      <th>1</th>\n",
       "      <td>0.205268</td>\n",
       "      <td>1.000000</td>\n",
       "      <td>0.423848</td>\n",
       "      <td>0.268689</td>\n",
       "      <td>0.147885</td>\n",
       "      <td>0.473327</td>\n",
       "      <td>0.080524</td>\n",
       "      <td>0.051301</td>\n",
       "      <td>0.112037</td>\n",
       "      <td>0.087679</td>\n",
       "      <td>...</td>\n",
       "      <td>0.010441</td>\n",
       "      <td>0.032471</td>\n",
       "      <td>0.027066</td>\n",
       "      <td>0.051456</td>\n",
       "      <td>0.060571</td>\n",
       "      <td>0.066702</td>\n",
       "      <td>0.075573</td>\n",
       "      <td>0.075674</td>\n",
       "      <td>0.059655</td>\n",
       "      <td>0.051901</td>\n",
       "    </tr>\n",
       "    <tr>\n",
       "      <th>2</th>\n",
       "      <td>0.323254</td>\n",
       "      <td>0.423848</td>\n",
       "      <td>1.000000</td>\n",
       "      <td>0.204971</td>\n",
       "      <td>0.419127</td>\n",
       "      <td>0.334606</td>\n",
       "      <td>0.198473</td>\n",
       "      <td>0.212200</td>\n",
       "      <td>0.393269</td>\n",
       "      <td>0.079867</td>\n",
       "      <td>...</td>\n",
       "      <td>0.090304</td>\n",
       "      <td>0.078152</td>\n",
       "      <td>0.046505</td>\n",
       "      <td>0.116278</td>\n",
       "      <td>0.126799</td>\n",
       "      <td>0.126082</td>\n",
       "      <td>0.112062</td>\n",
       "      <td>0.099386</td>\n",
       "      <td>0.072001</td>\n",
       "      <td>0.055462</td>\n",
       "    </tr>\n",
       "    <tr>\n",
       "      <th>3</th>\n",
       "      <td>0.098657</td>\n",
       "      <td>0.268689</td>\n",
       "      <td>0.204971</td>\n",
       "      <td>1.000000</td>\n",
       "      <td>0.547861</td>\n",
       "      <td>0.547564</td>\n",
       "      <td>0.551365</td>\n",
       "      <td>0.464944</td>\n",
       "      <td>0.128318</td>\n",
       "      <td>0.282078</td>\n",
       "      <td>...</td>\n",
       "      <td>0.011818</td>\n",
       "      <td>0.050531</td>\n",
       "      <td>0.049662</td>\n",
       "      <td>0.025726</td>\n",
       "      <td>0.028633</td>\n",
       "      <td>0.034214</td>\n",
       "      <td>0.037450</td>\n",
       "      <td>0.044722</td>\n",
       "      <td>0.061898</td>\n",
       "      <td>0.067312</td>\n",
       "    </tr>\n",
       "    <tr>\n",
       "      <th>4</th>\n",
       "      <td>0.454400</td>\n",
       "      <td>0.147885</td>\n",
       "      <td>0.419127</td>\n",
       "      <td>0.547861</td>\n",
       "      <td>1.000000</td>\n",
       "      <td>0.374215</td>\n",
       "      <td>0.494625</td>\n",
       "      <td>0.548281</td>\n",
       "      <td>0.320674</td>\n",
       "      <td>0.295392</td>\n",
       "      <td>...</td>\n",
       "      <td>0.085053</td>\n",
       "      <td>0.121125</td>\n",
       "      <td>0.103107</td>\n",
       "      <td>0.136225</td>\n",
       "      <td>0.140998</td>\n",
       "      <td>0.146138</td>\n",
       "      <td>0.133514</td>\n",
       "      <td>0.117428</td>\n",
       "      <td>0.104973</td>\n",
       "      <td>0.096481</td>\n",
       "    </tr>\n",
       "    <tr>\n",
       "      <th>...</th>\n",
       "      <td>...</td>\n",
       "      <td>...</td>\n",
       "      <td>...</td>\n",
       "      <td>...</td>\n",
       "      <td>...</td>\n",
       "      <td>...</td>\n",
       "      <td>...</td>\n",
       "      <td>...</td>\n",
       "      <td>...</td>\n",
       "      <td>...</td>\n",
       "      <td>...</td>\n",
       "      <td>...</td>\n",
       "      <td>...</td>\n",
       "      <td>...</td>\n",
       "      <td>...</td>\n",
       "      <td>...</td>\n",
       "      <td>...</td>\n",
       "      <td>...</td>\n",
       "      <td>...</td>\n",
       "      <td>...</td>\n",
       "      <td>...</td>\n",
       "    </tr>\n",
       "    <tr>\n",
       "      <th>1648</th>\n",
       "      <td>0.185391</td>\n",
       "      <td>0.066702</td>\n",
       "      <td>0.126082</td>\n",
       "      <td>0.034214</td>\n",
       "      <td>0.146138</td>\n",
       "      <td>0.099462</td>\n",
       "      <td>0.112110</td>\n",
       "      <td>0.100679</td>\n",
       "      <td>0.115192</td>\n",
       "      <td>0.094344</td>\n",
       "      <td>...</td>\n",
       "      <td>0.260793</td>\n",
       "      <td>0.204565</td>\n",
       "      <td>0.034375</td>\n",
       "      <td>0.654869</td>\n",
       "      <td>0.875456</td>\n",
       "      <td>1.000000</td>\n",
       "      <td>0.882643</td>\n",
       "      <td>0.700158</td>\n",
       "      <td>0.572483</td>\n",
       "      <td>0.502298</td>\n",
       "    </tr>\n",
       "    <tr>\n",
       "      <th>1649</th>\n",
       "      <td>0.187284</td>\n",
       "      <td>0.075573</td>\n",
       "      <td>0.112062</td>\n",
       "      <td>0.037450</td>\n",
       "      <td>0.133514</td>\n",
       "      <td>0.099024</td>\n",
       "      <td>0.102800</td>\n",
       "      <td>0.087014</td>\n",
       "      <td>0.093601</td>\n",
       "      <td>0.106831</td>\n",
       "      <td>...</td>\n",
       "      <td>0.329894</td>\n",
       "      <td>0.282726</td>\n",
       "      <td>0.011134</td>\n",
       "      <td>0.547805</td>\n",
       "      <td>0.685074</td>\n",
       "      <td>0.882643</td>\n",
       "      <td>1.000000</td>\n",
       "      <td>0.909778</td>\n",
       "      <td>0.715323</td>\n",
       "      <td>0.638793</td>\n",
       "    </tr>\n",
       "    <tr>\n",
       "      <th>1650</th>\n",
       "      <td>0.175161</td>\n",
       "      <td>0.075674</td>\n",
       "      <td>0.099386</td>\n",
       "      <td>0.044722</td>\n",
       "      <td>0.117428</td>\n",
       "      <td>0.094317</td>\n",
       "      <td>0.091276</td>\n",
       "      <td>0.071293</td>\n",
       "      <td>0.066605</td>\n",
       "      <td>0.099585</td>\n",
       "      <td>...</td>\n",
       "      <td>0.274986</td>\n",
       "      <td>0.343473</td>\n",
       "      <td>0.113848</td>\n",
       "      <td>0.475177</td>\n",
       "      <td>0.561310</td>\n",
       "      <td>0.700158</td>\n",
       "      <td>0.909778</td>\n",
       "      <td>1.000000</td>\n",
       "      <td>0.846110</td>\n",
       "      <td>0.770458</td>\n",
       "    </tr>\n",
       "    <tr>\n",
       "      <th>1651</th>\n",
       "      <td>0.129718</td>\n",
       "      <td>0.059655</td>\n",
       "      <td>0.072001</td>\n",
       "      <td>0.061898</td>\n",
       "      <td>0.104973</td>\n",
       "      <td>0.090484</td>\n",
       "      <td>0.082654</td>\n",
       "      <td>0.063481</td>\n",
       "      <td>0.041093</td>\n",
       "      <td>0.078025</td>\n",
       "      <td>...</td>\n",
       "      <td>0.262788</td>\n",
       "      <td>0.351870</td>\n",
       "      <td>0.147620</td>\n",
       "      <td>0.384273</td>\n",
       "      <td>0.460036</td>\n",
       "      <td>0.572483</td>\n",
       "      <td>0.715323</td>\n",
       "      <td>0.846110</td>\n",
       "      <td>1.000000</td>\n",
       "      <td>0.982088</td>\n",
       "    </tr>\n",
       "    <tr>\n",
       "      <th>1652</th>\n",
       "      <td>0.108374</td>\n",
       "      <td>0.051901</td>\n",
       "      <td>0.055462</td>\n",
       "      <td>0.067312</td>\n",
       "      <td>0.096481</td>\n",
       "      <td>0.084645</td>\n",
       "      <td>0.074542</td>\n",
       "      <td>0.057071</td>\n",
       "      <td>0.026978</td>\n",
       "      <td>0.070403</td>\n",
       "      <td>...</td>\n",
       "      <td>0.248885</td>\n",
       "      <td>0.336015</td>\n",
       "      <td>0.146558</td>\n",
       "      <td>0.335204</td>\n",
       "      <td>0.401572</td>\n",
       "      <td>0.502298</td>\n",
       "      <td>0.638793</td>\n",
       "      <td>0.770458</td>\n",
       "      <td>0.982088</td>\n",
       "      <td>1.000000</td>\n",
       "    </tr>\n",
       "  </tbody>\n",
       "</table>\n",
       "<p>1653 rows × 1653 columns</p>\n",
       "</div>"
      ],
      "text/plain": [
       "          0         1         2         3         4         5         6     \\\n",
       "0     1.000000  0.205268  0.323254  0.098657  0.454400  0.143514  0.319020   \n",
       "1     0.205268  1.000000  0.423848  0.268689  0.147885  0.473327  0.080524   \n",
       "2     0.323254  0.423848  1.000000  0.204971  0.419127  0.334606  0.198473   \n",
       "3     0.098657  0.268689  0.204971  1.000000  0.547861  0.547564  0.551365   \n",
       "4     0.454400  0.147885  0.419127  0.547861  1.000000  0.374215  0.494625   \n",
       "...        ...       ...       ...       ...       ...       ...       ...   \n",
       "1648  0.185391  0.066702  0.126082  0.034214  0.146138  0.099462  0.112110   \n",
       "1649  0.187284  0.075573  0.112062  0.037450  0.133514  0.099024  0.102800   \n",
       "1650  0.175161  0.075674  0.099386  0.044722  0.117428  0.094317  0.091276   \n",
       "1651  0.129718  0.059655  0.072001  0.061898  0.104973  0.090484  0.082654   \n",
       "1652  0.108374  0.051901  0.055462  0.067312  0.096481  0.084645  0.074542   \n",
       "\n",
       "          7         8         9     ...      1643      1644      1645  \\\n",
       "0     0.343343  0.166918  0.271784  ...  0.099010  0.013987  0.029139   \n",
       "1     0.051301  0.112037  0.087679  ...  0.010441  0.032471  0.027066   \n",
       "2     0.212200  0.393269  0.079867  ...  0.090304  0.078152  0.046505   \n",
       "3     0.464944  0.128318  0.282078  ...  0.011818  0.050531  0.049662   \n",
       "4     0.548281  0.320674  0.295392  ...  0.085053  0.121125  0.103107   \n",
       "...        ...       ...       ...  ...       ...       ...       ...   \n",
       "1648  0.100679  0.115192  0.094344  ...  0.260793  0.204565  0.034375   \n",
       "1649  0.087014  0.093601  0.106831  ...  0.329894  0.282726  0.011134   \n",
       "1650  0.071293  0.066605  0.099585  ...  0.274986  0.343473  0.113848   \n",
       "1651  0.063481  0.041093  0.078025  ...  0.262788  0.351870  0.147620   \n",
       "1652  0.057071  0.026978  0.070403  ...  0.248885  0.336015  0.146558   \n",
       "\n",
       "          1646      1647      1648      1649      1650      1651      1652  \n",
       "0     0.152129  0.176473  0.185391  0.187284  0.175161  0.129718  0.108374  \n",
       "1     0.051456  0.060571  0.066702  0.075573  0.075674  0.059655  0.051901  \n",
       "2     0.116278  0.126799  0.126082  0.112062  0.099386  0.072001  0.055462  \n",
       "3     0.025726  0.028633  0.034214  0.037450  0.044722  0.061898  0.067312  \n",
       "4     0.136225  0.140998  0.146138  0.133514  0.117428  0.104973  0.096481  \n",
       "...        ...       ...       ...       ...       ...       ...       ...  \n",
       "1648  0.654869  0.875456  1.000000  0.882643  0.700158  0.572483  0.502298  \n",
       "1649  0.547805  0.685074  0.882643  1.000000  0.909778  0.715323  0.638793  \n",
       "1650  0.475177  0.561310  0.700158  0.909778  1.000000  0.846110  0.770458  \n",
       "1651  0.384273  0.460036  0.572483  0.715323  0.846110  1.000000  0.982088  \n",
       "1652  0.335204  0.401572  0.502298  0.638793  0.770458  0.982088  1.000000  \n",
       "\n",
       "[1653 rows x 1653 columns]"
      ]
     },
     "execution_count": 95,
     "metadata": {},
     "output_type": "execute_result"
    }
   ],
   "source": [
    "corr_"
   ]
  },
  {
   "cell_type": "code",
   "execution_count": 96,
   "metadata": {},
   "outputs": [],
   "source": [
    "_corr=corr_.unstack().sort_values(ascending=False).drop_duplicates()"
   ]
  },
  {
   "cell_type": "code",
   "execution_count": 97,
   "metadata": {},
   "outputs": [
    {
     "data": {
      "text/plain": [
       "0    0      1.000000\n",
       "171  0      0.999217\n",
       "290  119    0.998845\n",
       "275  104    0.998812\n",
       "174  3      0.998808\n",
       "244  73     0.998790\n",
       "339  168    0.998763\n",
       "23   194    0.998726\n",
       "302  131    0.998703\n",
       "169  340    0.998678\n",
       "11   182    0.998675\n",
       "149  320    0.998674\n",
       "276  105    0.998657\n",
       "61   232    0.998631\n",
       "187  16     0.998629\n",
       "9    180    0.998624\n",
       "14   185    0.998623\n",
       "1    172    0.998608\n",
       "91   262    0.998597\n",
       "250  79     0.998585\n",
       "dtype: float64"
      ]
     },
     "execution_count": 97,
     "metadata": {},
     "output_type": "execute_result"
    }
   ],
   "source": [
    "_corr.head(20)"
   ]
  },
  {
   "cell_type": "code",
   "execution_count": 98,
   "metadata": {},
   "outputs": [
    {
     "data": {
      "text/plain": [
       "1365379"
      ]
     },
     "execution_count": 98,
     "metadata": {},
     "output_type": "execute_result"
    }
   ],
   "source": [
    "len(_corr)"
   ]
  },
  {
   "cell_type": "code",
   "execution_count": 99,
   "metadata": {},
   "outputs": [
    {
     "data": {
      "text/html": [
       "<div>\n",
       "<style scoped>\n",
       "    .dataframe tbody tr th:only-of-type {\n",
       "        vertical-align: middle;\n",
       "    }\n",
       "\n",
       "    .dataframe tbody tr th {\n",
       "        vertical-align: top;\n",
       "    }\n",
       "\n",
       "    .dataframe thead th {\n",
       "        text-align: right;\n",
       "    }\n",
       "</style>\n",
       "<table border=\"1\" class=\"dataframe\">\n",
       "  <thead>\n",
       "    <tr style=\"text-align: right;\">\n",
       "      <th></th>\n",
       "      <th>0</th>\n",
       "      <th>171</th>\n",
       "      <th>174</th>\n",
       "      <th>3</th>\n",
       "    </tr>\n",
       "  </thead>\n",
       "  <tbody>\n",
       "    <tr>\n",
       "      <th>0</th>\n",
       "      <td>0.948392</td>\n",
       "      <td>0.946291</td>\n",
       "      <td>0.779014</td>\n",
       "      <td>0.795152</td>\n",
       "    </tr>\n",
       "    <tr>\n",
       "      <th>1</th>\n",
       "      <td>0.746620</td>\n",
       "      <td>0.753127</td>\n",
       "      <td>0.517309</td>\n",
       "      <td>0.517099</td>\n",
       "    </tr>\n",
       "    <tr>\n",
       "      <th>2</th>\n",
       "      <td>0.263161</td>\n",
       "      <td>0.279160</td>\n",
       "      <td>0.349686</td>\n",
       "      <td>0.338505</td>\n",
       "    </tr>\n",
       "    <tr>\n",
       "      <th>3</th>\n",
       "      <td>0.868039</td>\n",
       "      <td>0.866360</td>\n",
       "      <td>0.635458</td>\n",
       "      <td>0.635282</td>\n",
       "    </tr>\n",
       "    <tr>\n",
       "      <th>4</th>\n",
       "      <td>0.648348</td>\n",
       "      <td>0.643542</td>\n",
       "      <td>0.218298</td>\n",
       "      <td>0.197477</td>\n",
       "    </tr>\n",
       "    <tr>\n",
       "      <th>...</th>\n",
       "      <td>...</td>\n",
       "      <td>...</td>\n",
       "      <td>...</td>\n",
       "      <td>...</td>\n",
       "    </tr>\n",
       "    <tr>\n",
       "      <th>15087</th>\n",
       "      <td>0.416939</td>\n",
       "      <td>0.409888</td>\n",
       "      <td>0.814842</td>\n",
       "      <td>0.812803</td>\n",
       "    </tr>\n",
       "    <tr>\n",
       "      <th>15088</th>\n",
       "      <td>0.252499</td>\n",
       "      <td>0.259015</td>\n",
       "      <td>0.476667</td>\n",
       "      <td>0.482472</td>\n",
       "    </tr>\n",
       "    <tr>\n",
       "      <th>15089</th>\n",
       "      <td>0.487844</td>\n",
       "      <td>0.500574</td>\n",
       "      <td>0.684269</td>\n",
       "      <td>0.686607</td>\n",
       "    </tr>\n",
       "    <tr>\n",
       "      <th>15090</th>\n",
       "      <td>0.326606</td>\n",
       "      <td>0.337612</td>\n",
       "      <td>0.724170</td>\n",
       "      <td>0.723813</td>\n",
       "    </tr>\n",
       "    <tr>\n",
       "      <th>15091</th>\n",
       "      <td>0.335011</td>\n",
       "      <td>0.348492</td>\n",
       "      <td>0.789691</td>\n",
       "      <td>0.790758</td>\n",
       "    </tr>\n",
       "  </tbody>\n",
       "</table>\n",
       "<p>15092 rows × 4 columns</p>\n",
       "</div>"
      ],
      "text/plain": [
       "            0         171       174       3  \n",
       "0      0.948392  0.946291  0.779014  0.795152\n",
       "1      0.746620  0.753127  0.517309  0.517099\n",
       "2      0.263161  0.279160  0.349686  0.338505\n",
       "3      0.868039  0.866360  0.635458  0.635282\n",
       "4      0.648348  0.643542  0.218298  0.197477\n",
       "...         ...       ...       ...       ...\n",
       "15087  0.416939  0.409888  0.814842  0.812803\n",
       "15088  0.252499  0.259015  0.476667  0.482472\n",
       "15089  0.487844  0.500574  0.684269  0.686607\n",
       "15090  0.326606  0.337612  0.724170  0.723813\n",
       "15091  0.335011  0.348492  0.789691  0.790758\n",
       "\n",
       "[15092 rows x 4 columns]"
      ]
     },
     "execution_count": 99,
     "metadata": {},
     "output_type": "execute_result"
    }
   ],
   "source": [
    "df_X_train[[0,171,174,3]]"
   ]
  },
  {
   "cell_type": "markdown",
   "metadata": {},
   "source": [
    "#### sprawdzenie korelacji cech z targetem 'age'"
   ]
  },
  {
   "cell_type": "code",
   "execution_count": 100,
   "metadata": {},
   "outputs": [],
   "source": [
    "df_X_train_y=df_X_train"
   ]
  },
  {
   "cell_type": "code",
   "execution_count": 101,
   "metadata": {},
   "outputs": [],
   "source": [
    "df_X_train_y['y']=[x for x in y_train]"
   ]
  },
  {
   "cell_type": "code",
   "execution_count": 102,
   "metadata": {},
   "outputs": [
    {
     "data": {
      "text/html": [
       "<div>\n",
       "<style scoped>\n",
       "    .dataframe tbody tr th:only-of-type {\n",
       "        vertical-align: middle;\n",
       "    }\n",
       "\n",
       "    .dataframe tbody tr th {\n",
       "        vertical-align: top;\n",
       "    }\n",
       "\n",
       "    .dataframe thead th {\n",
       "        text-align: right;\n",
       "    }\n",
       "</style>\n",
       "<table border=\"1\" class=\"dataframe\">\n",
       "  <thead>\n",
       "    <tr style=\"text-align: right;\">\n",
       "      <th></th>\n",
       "      <th>0</th>\n",
       "      <th>1</th>\n",
       "      <th>2</th>\n",
       "      <th>3</th>\n",
       "      <th>4</th>\n",
       "      <th>5</th>\n",
       "      <th>6</th>\n",
       "      <th>7</th>\n",
       "      <th>8</th>\n",
       "      <th>9</th>\n",
       "      <th>...</th>\n",
       "      <th>1644</th>\n",
       "      <th>1645</th>\n",
       "      <th>1646</th>\n",
       "      <th>1647</th>\n",
       "      <th>1648</th>\n",
       "      <th>1649</th>\n",
       "      <th>1650</th>\n",
       "      <th>1651</th>\n",
       "      <th>1652</th>\n",
       "      <th>y</th>\n",
       "    </tr>\n",
       "  </thead>\n",
       "  <tbody>\n",
       "    <tr>\n",
       "      <th>0</th>\n",
       "      <td>0.948392</td>\n",
       "      <td>0.807233</td>\n",
       "      <td>0.634927</td>\n",
       "      <td>0.795152</td>\n",
       "      <td>0.689951</td>\n",
       "      <td>0.808429</td>\n",
       "      <td>0.360581</td>\n",
       "      <td>0.324411</td>\n",
       "      <td>0.274222</td>\n",
       "      <td>0.485078</td>\n",
       "      <td>...</td>\n",
       "      <td>0.041285</td>\n",
       "      <td>0.045557</td>\n",
       "      <td>0.045326</td>\n",
       "      <td>0.062304</td>\n",
       "      <td>0.065491</td>\n",
       "      <td>0.038242</td>\n",
       "      <td>0.014110</td>\n",
       "      <td>0.018287</td>\n",
       "      <td>0.013729</td>\n",
       "      <td>38.083333</td>\n",
       "    </tr>\n",
       "    <tr>\n",
       "      <th>1</th>\n",
       "      <td>0.746620</td>\n",
       "      <td>0.575926</td>\n",
       "      <td>0.214289</td>\n",
       "      <td>0.517099</td>\n",
       "      <td>0.307934</td>\n",
       "      <td>0.401059</td>\n",
       "      <td>0.521206</td>\n",
       "      <td>0.516610</td>\n",
       "      <td>0.191877</td>\n",
       "      <td>0.430831</td>\n",
       "      <td>...</td>\n",
       "      <td>0.023736</td>\n",
       "      <td>0.016015</td>\n",
       "      <td>0.011243</td>\n",
       "      <td>0.011759</td>\n",
       "      <td>0.008217</td>\n",
       "      <td>0.004201</td>\n",
       "      <td>0.002672</td>\n",
       "      <td>0.003413</td>\n",
       "      <td>0.002757</td>\n",
       "      <td>44.833333</td>\n",
       "    </tr>\n",
       "    <tr>\n",
       "      <th>2</th>\n",
       "      <td>0.263161</td>\n",
       "      <td>0.330337</td>\n",
       "      <td>0.204795</td>\n",
       "      <td>0.338505</td>\n",
       "      <td>0.189303</td>\n",
       "      <td>0.249672</td>\n",
       "      <td>0.302185</td>\n",
       "      <td>0.193063</td>\n",
       "      <td>0.155043</td>\n",
       "      <td>0.248955</td>\n",
       "      <td>...</td>\n",
       "      <td>0.154645</td>\n",
       "      <td>0.149967</td>\n",
       "      <td>0.050630</td>\n",
       "      <td>0.037759</td>\n",
       "      <td>0.033869</td>\n",
       "      <td>0.030550</td>\n",
       "      <td>0.022065</td>\n",
       "      <td>0.024785</td>\n",
       "      <td>0.018057</td>\n",
       "      <td>37.666667</td>\n",
       "    </tr>\n",
       "    <tr>\n",
       "      <th>3</th>\n",
       "      <td>0.868039</td>\n",
       "      <td>0.547711</td>\n",
       "      <td>0.237430</td>\n",
       "      <td>0.635282</td>\n",
       "      <td>0.440689</td>\n",
       "      <td>0.450580</td>\n",
       "      <td>0.503887</td>\n",
       "      <td>0.498472</td>\n",
       "      <td>0.187754</td>\n",
       "      <td>0.762667</td>\n",
       "      <td>...</td>\n",
       "      <td>0.556072</td>\n",
       "      <td>0.487204</td>\n",
       "      <td>0.115022</td>\n",
       "      <td>0.123168</td>\n",
       "      <td>0.067872</td>\n",
       "      <td>0.032030</td>\n",
       "      <td>0.013702</td>\n",
       "      <td>0.012321</td>\n",
       "      <td>0.007392</td>\n",
       "      <td>58.333333</td>\n",
       "    </tr>\n",
       "    <tr>\n",
       "      <th>4</th>\n",
       "      <td>0.648348</td>\n",
       "      <td>0.581971</td>\n",
       "      <td>0.195540</td>\n",
       "      <td>0.197477</td>\n",
       "      <td>0.177909</td>\n",
       "      <td>0.185853</td>\n",
       "      <td>0.221986</td>\n",
       "      <td>0.203278</td>\n",
       "      <td>0.178148</td>\n",
       "      <td>0.704896</td>\n",
       "      <td>...</td>\n",
       "      <td>0.627763</td>\n",
       "      <td>0.506492</td>\n",
       "      <td>0.031921</td>\n",
       "      <td>0.046025</td>\n",
       "      <td>0.042879</td>\n",
       "      <td>0.021318</td>\n",
       "      <td>0.008444</td>\n",
       "      <td>0.009730</td>\n",
       "      <td>0.007271</td>\n",
       "      <td>53.166667</td>\n",
       "    </tr>\n",
       "    <tr>\n",
       "      <th>...</th>\n",
       "      <td>...</td>\n",
       "      <td>...</td>\n",
       "      <td>...</td>\n",
       "      <td>...</td>\n",
       "      <td>...</td>\n",
       "      <td>...</td>\n",
       "      <td>...</td>\n",
       "      <td>...</td>\n",
       "      <td>...</td>\n",
       "      <td>...</td>\n",
       "      <td>...</td>\n",
       "      <td>...</td>\n",
       "      <td>...</td>\n",
       "      <td>...</td>\n",
       "      <td>...</td>\n",
       "      <td>...</td>\n",
       "      <td>...</td>\n",
       "      <td>...</td>\n",
       "      <td>...</td>\n",
       "      <td>...</td>\n",
       "      <td>...</td>\n",
       "    </tr>\n",
       "    <tr>\n",
       "      <th>15087</th>\n",
       "      <td>0.416939</td>\n",
       "      <td>0.343074</td>\n",
       "      <td>0.200754</td>\n",
       "      <td>0.812803</td>\n",
       "      <td>0.246267</td>\n",
       "      <td>0.343158</td>\n",
       "      <td>0.513504</td>\n",
       "      <td>0.288849</td>\n",
       "      <td>0.167585</td>\n",
       "      <td>0.677499</td>\n",
       "      <td>...</td>\n",
       "      <td>0.293677</td>\n",
       "      <td>0.239724</td>\n",
       "      <td>0.044799</td>\n",
       "      <td>0.057224</td>\n",
       "      <td>0.075978</td>\n",
       "      <td>0.077281</td>\n",
       "      <td>0.043288</td>\n",
       "      <td>0.025177</td>\n",
       "      <td>0.012335</td>\n",
       "      <td>58.666667</td>\n",
       "    </tr>\n",
       "    <tr>\n",
       "      <th>15088</th>\n",
       "      <td>0.252499</td>\n",
       "      <td>0.670061</td>\n",
       "      <td>0.405994</td>\n",
       "      <td>0.482472</td>\n",
       "      <td>0.615048</td>\n",
       "      <td>0.227570</td>\n",
       "      <td>0.246075</td>\n",
       "      <td>0.246751</td>\n",
       "      <td>0.224834</td>\n",
       "      <td>0.213608</td>\n",
       "      <td>...</td>\n",
       "      <td>0.261787</td>\n",
       "      <td>0.104445</td>\n",
       "      <td>0.027947</td>\n",
       "      <td>0.025643</td>\n",
       "      <td>0.017173</td>\n",
       "      <td>0.008684</td>\n",
       "      <td>0.005637</td>\n",
       "      <td>0.006348</td>\n",
       "      <td>0.004514</td>\n",
       "      <td>17.500000</td>\n",
       "    </tr>\n",
       "    <tr>\n",
       "      <th>15089</th>\n",
       "      <td>0.487844</td>\n",
       "      <td>0.451342</td>\n",
       "      <td>0.410599</td>\n",
       "      <td>0.686607</td>\n",
       "      <td>0.360908</td>\n",
       "      <td>0.356988</td>\n",
       "      <td>0.568715</td>\n",
       "      <td>0.501191</td>\n",
       "      <td>0.185614</td>\n",
       "      <td>0.595570</td>\n",
       "      <td>...</td>\n",
       "      <td>0.349984</td>\n",
       "      <td>0.197142</td>\n",
       "      <td>0.036962</td>\n",
       "      <td>0.040836</td>\n",
       "      <td>0.033533</td>\n",
       "      <td>0.021557</td>\n",
       "      <td>0.010126</td>\n",
       "      <td>0.007050</td>\n",
       "      <td>0.004297</td>\n",
       "      <td>50.666667</td>\n",
       "    </tr>\n",
       "    <tr>\n",
       "      <th>15090</th>\n",
       "      <td>0.326606</td>\n",
       "      <td>0.504229</td>\n",
       "      <td>0.300178</td>\n",
       "      <td>0.723813</td>\n",
       "      <td>0.300397</td>\n",
       "      <td>0.591632</td>\n",
       "      <td>0.487165</td>\n",
       "      <td>0.426158</td>\n",
       "      <td>0.166273</td>\n",
       "      <td>0.485975</td>\n",
       "      <td>...</td>\n",
       "      <td>0.597084</td>\n",
       "      <td>0.308781</td>\n",
       "      <td>0.055085</td>\n",
       "      <td>0.046785</td>\n",
       "      <td>0.036816</td>\n",
       "      <td>0.027821</td>\n",
       "      <td>0.016802</td>\n",
       "      <td>0.014552</td>\n",
       "      <td>0.010125</td>\n",
       "      <td>52.250000</td>\n",
       "    </tr>\n",
       "    <tr>\n",
       "      <th>15091</th>\n",
       "      <td>0.335011</td>\n",
       "      <td>0.823064</td>\n",
       "      <td>0.390969</td>\n",
       "      <td>0.790758</td>\n",
       "      <td>0.373987</td>\n",
       "      <td>0.901535</td>\n",
       "      <td>0.493369</td>\n",
       "      <td>0.467960</td>\n",
       "      <td>0.393275</td>\n",
       "      <td>0.591424</td>\n",
       "      <td>...</td>\n",
       "      <td>0.240556</td>\n",
       "      <td>0.120954</td>\n",
       "      <td>0.023176</td>\n",
       "      <td>0.033072</td>\n",
       "      <td>0.032305</td>\n",
       "      <td>0.017652</td>\n",
       "      <td>0.010220</td>\n",
       "      <td>0.012087</td>\n",
       "      <td>0.009839</td>\n",
       "      <td>18.833333</td>\n",
       "    </tr>\n",
       "  </tbody>\n",
       "</table>\n",
       "<p>15092 rows × 1654 columns</p>\n",
       "</div>"
      ],
      "text/plain": [
       "              0         1         2         3         4         5         6  \\\n",
       "0      0.948392  0.807233  0.634927  0.795152  0.689951  0.808429  0.360581   \n",
       "1      0.746620  0.575926  0.214289  0.517099  0.307934  0.401059  0.521206   \n",
       "2      0.263161  0.330337  0.204795  0.338505  0.189303  0.249672  0.302185   \n",
       "3      0.868039  0.547711  0.237430  0.635282  0.440689  0.450580  0.503887   \n",
       "4      0.648348  0.581971  0.195540  0.197477  0.177909  0.185853  0.221986   \n",
       "...         ...       ...       ...       ...       ...       ...       ...   \n",
       "15087  0.416939  0.343074  0.200754  0.812803  0.246267  0.343158  0.513504   \n",
       "15088  0.252499  0.670061  0.405994  0.482472  0.615048  0.227570  0.246075   \n",
       "15089  0.487844  0.451342  0.410599  0.686607  0.360908  0.356988  0.568715   \n",
       "15090  0.326606  0.504229  0.300178  0.723813  0.300397  0.591632  0.487165   \n",
       "15091  0.335011  0.823064  0.390969  0.790758  0.373987  0.901535  0.493369   \n",
       "\n",
       "              7         8         9  ...      1644      1645      1646  \\\n",
       "0      0.324411  0.274222  0.485078  ...  0.041285  0.045557  0.045326   \n",
       "1      0.516610  0.191877  0.430831  ...  0.023736  0.016015  0.011243   \n",
       "2      0.193063  0.155043  0.248955  ...  0.154645  0.149967  0.050630   \n",
       "3      0.498472  0.187754  0.762667  ...  0.556072  0.487204  0.115022   \n",
       "4      0.203278  0.178148  0.704896  ...  0.627763  0.506492  0.031921   \n",
       "...         ...       ...       ...  ...       ...       ...       ...   \n",
       "15087  0.288849  0.167585  0.677499  ...  0.293677  0.239724  0.044799   \n",
       "15088  0.246751  0.224834  0.213608  ...  0.261787  0.104445  0.027947   \n",
       "15089  0.501191  0.185614  0.595570  ...  0.349984  0.197142  0.036962   \n",
       "15090  0.426158  0.166273  0.485975  ...  0.597084  0.308781  0.055085   \n",
       "15091  0.467960  0.393275  0.591424  ...  0.240556  0.120954  0.023176   \n",
       "\n",
       "           1647      1648      1649      1650      1651      1652          y  \n",
       "0      0.062304  0.065491  0.038242  0.014110  0.018287  0.013729  38.083333  \n",
       "1      0.011759  0.008217  0.004201  0.002672  0.003413  0.002757  44.833333  \n",
       "2      0.037759  0.033869  0.030550  0.022065  0.024785  0.018057  37.666667  \n",
       "3      0.123168  0.067872  0.032030  0.013702  0.012321  0.007392  58.333333  \n",
       "4      0.046025  0.042879  0.021318  0.008444  0.009730  0.007271  53.166667  \n",
       "...         ...       ...       ...       ...       ...       ...        ...  \n",
       "15087  0.057224  0.075978  0.077281  0.043288  0.025177  0.012335  58.666667  \n",
       "15088  0.025643  0.017173  0.008684  0.005637  0.006348  0.004514  17.500000  \n",
       "15089  0.040836  0.033533  0.021557  0.010126  0.007050  0.004297  50.666667  \n",
       "15090  0.046785  0.036816  0.027821  0.016802  0.014552  0.010125  52.250000  \n",
       "15091  0.033072  0.032305  0.017652  0.010220  0.012087  0.009839  18.833333  \n",
       "\n",
       "[15092 rows x 1654 columns]"
      ]
     },
     "execution_count": 102,
     "metadata": {},
     "output_type": "execute_result"
    }
   ],
   "source": [
    "df_X_train_y"
   ]
  },
  {
   "cell_type": "code",
   "execution_count": 103,
   "metadata": {},
   "outputs": [],
   "source": [
    "corr_y=df_X_train_y.corr().abs()"
   ]
  },
  {
   "cell_type": "code",
   "execution_count": 104,
   "metadata": {},
   "outputs": [
    {
     "data": {
      "text/html": [
       "<div>\n",
       "<style scoped>\n",
       "    .dataframe tbody tr th:only-of-type {\n",
       "        vertical-align: middle;\n",
       "    }\n",
       "\n",
       "    .dataframe tbody tr th {\n",
       "        vertical-align: top;\n",
       "    }\n",
       "\n",
       "    .dataframe thead th {\n",
       "        text-align: right;\n",
       "    }\n",
       "</style>\n",
       "<table border=\"1\" class=\"dataframe\">\n",
       "  <thead>\n",
       "    <tr style=\"text-align: right;\">\n",
       "      <th></th>\n",
       "      <th>0</th>\n",
       "      <th>1</th>\n",
       "      <th>2</th>\n",
       "      <th>3</th>\n",
       "      <th>4</th>\n",
       "      <th>5</th>\n",
       "      <th>6</th>\n",
       "      <th>7</th>\n",
       "      <th>8</th>\n",
       "      <th>9</th>\n",
       "      <th>...</th>\n",
       "      <th>1644</th>\n",
       "      <th>1645</th>\n",
       "      <th>1646</th>\n",
       "      <th>1647</th>\n",
       "      <th>1648</th>\n",
       "      <th>1649</th>\n",
       "      <th>1650</th>\n",
       "      <th>1651</th>\n",
       "      <th>1652</th>\n",
       "      <th>y</th>\n",
       "    </tr>\n",
       "  </thead>\n",
       "  <tbody>\n",
       "    <tr>\n",
       "      <th>0</th>\n",
       "      <td>1.000000</td>\n",
       "      <td>0.205268</td>\n",
       "      <td>0.323254</td>\n",
       "      <td>0.098657</td>\n",
       "      <td>0.454400</td>\n",
       "      <td>0.143514</td>\n",
       "      <td>0.319020</td>\n",
       "      <td>0.343343</td>\n",
       "      <td>0.166918</td>\n",
       "      <td>0.271784</td>\n",
       "      <td>...</td>\n",
       "      <td>0.013987</td>\n",
       "      <td>0.029139</td>\n",
       "      <td>0.152129</td>\n",
       "      <td>0.176473</td>\n",
       "      <td>0.185391</td>\n",
       "      <td>0.187284</td>\n",
       "      <td>0.175161</td>\n",
       "      <td>0.129718</td>\n",
       "      <td>0.108374</td>\n",
       "      <td>0.167622</td>\n",
       "    </tr>\n",
       "    <tr>\n",
       "      <th>1</th>\n",
       "      <td>0.205268</td>\n",
       "      <td>1.000000</td>\n",
       "      <td>0.423848</td>\n",
       "      <td>0.268689</td>\n",
       "      <td>0.147885</td>\n",
       "      <td>0.473327</td>\n",
       "      <td>0.080524</td>\n",
       "      <td>0.051301</td>\n",
       "      <td>0.112037</td>\n",
       "      <td>0.087679</td>\n",
       "      <td>...</td>\n",
       "      <td>0.032471</td>\n",
       "      <td>0.027066</td>\n",
       "      <td>0.051456</td>\n",
       "      <td>0.060571</td>\n",
       "      <td>0.066702</td>\n",
       "      <td>0.075573</td>\n",
       "      <td>0.075674</td>\n",
       "      <td>0.059655</td>\n",
       "      <td>0.051901</td>\n",
       "      <td>0.115955</td>\n",
       "    </tr>\n",
       "    <tr>\n",
       "      <th>2</th>\n",
       "      <td>0.323254</td>\n",
       "      <td>0.423848</td>\n",
       "      <td>1.000000</td>\n",
       "      <td>0.204971</td>\n",
       "      <td>0.419127</td>\n",
       "      <td>0.334606</td>\n",
       "      <td>0.198473</td>\n",
       "      <td>0.212200</td>\n",
       "      <td>0.393269</td>\n",
       "      <td>0.079867</td>\n",
       "      <td>...</td>\n",
       "      <td>0.078152</td>\n",
       "      <td>0.046505</td>\n",
       "      <td>0.116278</td>\n",
       "      <td>0.126799</td>\n",
       "      <td>0.126082</td>\n",
       "      <td>0.112062</td>\n",
       "      <td>0.099386</td>\n",
       "      <td>0.072001</td>\n",
       "      <td>0.055462</td>\n",
       "      <td>0.057252</td>\n",
       "    </tr>\n",
       "    <tr>\n",
       "      <th>3</th>\n",
       "      <td>0.098657</td>\n",
       "      <td>0.268689</td>\n",
       "      <td>0.204971</td>\n",
       "      <td>1.000000</td>\n",
       "      <td>0.547861</td>\n",
       "      <td>0.547564</td>\n",
       "      <td>0.551365</td>\n",
       "      <td>0.464944</td>\n",
       "      <td>0.128318</td>\n",
       "      <td>0.282078</td>\n",
       "      <td>...</td>\n",
       "      <td>0.050531</td>\n",
       "      <td>0.049662</td>\n",
       "      <td>0.025726</td>\n",
       "      <td>0.028633</td>\n",
       "      <td>0.034214</td>\n",
       "      <td>0.037450</td>\n",
       "      <td>0.044722</td>\n",
       "      <td>0.061898</td>\n",
       "      <td>0.067312</td>\n",
       "      <td>0.045154</td>\n",
       "    </tr>\n",
       "    <tr>\n",
       "      <th>4</th>\n",
       "      <td>0.454400</td>\n",
       "      <td>0.147885</td>\n",
       "      <td>0.419127</td>\n",
       "      <td>0.547861</td>\n",
       "      <td>1.000000</td>\n",
       "      <td>0.374215</td>\n",
       "      <td>0.494625</td>\n",
       "      <td>0.548281</td>\n",
       "      <td>0.320674</td>\n",
       "      <td>0.295392</td>\n",
       "      <td>...</td>\n",
       "      <td>0.121125</td>\n",
       "      <td>0.103107</td>\n",
       "      <td>0.136225</td>\n",
       "      <td>0.140998</td>\n",
       "      <td>0.146138</td>\n",
       "      <td>0.133514</td>\n",
       "      <td>0.117428</td>\n",
       "      <td>0.104973</td>\n",
       "      <td>0.096481</td>\n",
       "      <td>0.039383</td>\n",
       "    </tr>\n",
       "    <tr>\n",
       "      <th>...</th>\n",
       "      <td>...</td>\n",
       "      <td>...</td>\n",
       "      <td>...</td>\n",
       "      <td>...</td>\n",
       "      <td>...</td>\n",
       "      <td>...</td>\n",
       "      <td>...</td>\n",
       "      <td>...</td>\n",
       "      <td>...</td>\n",
       "      <td>...</td>\n",
       "      <td>...</td>\n",
       "      <td>...</td>\n",
       "      <td>...</td>\n",
       "      <td>...</td>\n",
       "      <td>...</td>\n",
       "      <td>...</td>\n",
       "      <td>...</td>\n",
       "      <td>...</td>\n",
       "      <td>...</td>\n",
       "      <td>...</td>\n",
       "      <td>...</td>\n",
       "    </tr>\n",
       "    <tr>\n",
       "      <th>1649</th>\n",
       "      <td>0.187284</td>\n",
       "      <td>0.075573</td>\n",
       "      <td>0.112062</td>\n",
       "      <td>0.037450</td>\n",
       "      <td>0.133514</td>\n",
       "      <td>0.099024</td>\n",
       "      <td>0.102800</td>\n",
       "      <td>0.087014</td>\n",
       "      <td>0.093601</td>\n",
       "      <td>0.106831</td>\n",
       "      <td>...</td>\n",
       "      <td>0.282726</td>\n",
       "      <td>0.011134</td>\n",
       "      <td>0.547805</td>\n",
       "      <td>0.685074</td>\n",
       "      <td>0.882643</td>\n",
       "      <td>1.000000</td>\n",
       "      <td>0.909778</td>\n",
       "      <td>0.715323</td>\n",
       "      <td>0.638793</td>\n",
       "      <td>0.256317</td>\n",
       "    </tr>\n",
       "    <tr>\n",
       "      <th>1650</th>\n",
       "      <td>0.175161</td>\n",
       "      <td>0.075674</td>\n",
       "      <td>0.099386</td>\n",
       "      <td>0.044722</td>\n",
       "      <td>0.117428</td>\n",
       "      <td>0.094317</td>\n",
       "      <td>0.091276</td>\n",
       "      <td>0.071293</td>\n",
       "      <td>0.066605</td>\n",
       "      <td>0.099585</td>\n",
       "      <td>...</td>\n",
       "      <td>0.343473</td>\n",
       "      <td>0.113848</td>\n",
       "      <td>0.475177</td>\n",
       "      <td>0.561310</td>\n",
       "      <td>0.700158</td>\n",
       "      <td>0.909778</td>\n",
       "      <td>1.000000</td>\n",
       "      <td>0.846110</td>\n",
       "      <td>0.770458</td>\n",
       "      <td>0.272181</td>\n",
       "    </tr>\n",
       "    <tr>\n",
       "      <th>1651</th>\n",
       "      <td>0.129718</td>\n",
       "      <td>0.059655</td>\n",
       "      <td>0.072001</td>\n",
       "      <td>0.061898</td>\n",
       "      <td>0.104973</td>\n",
       "      <td>0.090484</td>\n",
       "      <td>0.082654</td>\n",
       "      <td>0.063481</td>\n",
       "      <td>0.041093</td>\n",
       "      <td>0.078025</td>\n",
       "      <td>...</td>\n",
       "      <td>0.351870</td>\n",
       "      <td>0.147620</td>\n",
       "      <td>0.384273</td>\n",
       "      <td>0.460036</td>\n",
       "      <td>0.572483</td>\n",
       "      <td>0.715323</td>\n",
       "      <td>0.846110</td>\n",
       "      <td>1.000000</td>\n",
       "      <td>0.982088</td>\n",
       "      <td>0.245594</td>\n",
       "    </tr>\n",
       "    <tr>\n",
       "      <th>1652</th>\n",
       "      <td>0.108374</td>\n",
       "      <td>0.051901</td>\n",
       "      <td>0.055462</td>\n",
       "      <td>0.067312</td>\n",
       "      <td>0.096481</td>\n",
       "      <td>0.084645</td>\n",
       "      <td>0.074542</td>\n",
       "      <td>0.057071</td>\n",
       "      <td>0.026978</td>\n",
       "      <td>0.070403</td>\n",
       "      <td>...</td>\n",
       "      <td>0.336015</td>\n",
       "      <td>0.146558</td>\n",
       "      <td>0.335204</td>\n",
       "      <td>0.401572</td>\n",
       "      <td>0.502298</td>\n",
       "      <td>0.638793</td>\n",
       "      <td>0.770458</td>\n",
       "      <td>0.982088</td>\n",
       "      <td>1.000000</td>\n",
       "      <td>0.230077</td>\n",
       "    </tr>\n",
       "    <tr>\n",
       "      <th>y</th>\n",
       "      <td>0.167622</td>\n",
       "      <td>0.115955</td>\n",
       "      <td>0.057252</td>\n",
       "      <td>0.045154</td>\n",
       "      <td>0.039383</td>\n",
       "      <td>0.083647</td>\n",
       "      <td>0.044360</td>\n",
       "      <td>0.022667</td>\n",
       "      <td>0.034120</td>\n",
       "      <td>0.151514</td>\n",
       "      <td>...</td>\n",
       "      <td>0.104374</td>\n",
       "      <td>0.159334</td>\n",
       "      <td>0.232608</td>\n",
       "      <td>0.270038</td>\n",
       "      <td>0.248742</td>\n",
       "      <td>0.256317</td>\n",
       "      <td>0.272181</td>\n",
       "      <td>0.245594</td>\n",
       "      <td>0.230077</td>\n",
       "      <td>1.000000</td>\n",
       "    </tr>\n",
       "  </tbody>\n",
       "</table>\n",
       "<p>1654 rows × 1654 columns</p>\n",
       "</div>"
      ],
      "text/plain": [
       "             0         1         2         3         4         5         6  \\\n",
       "0     1.000000  0.205268  0.323254  0.098657  0.454400  0.143514  0.319020   \n",
       "1     0.205268  1.000000  0.423848  0.268689  0.147885  0.473327  0.080524   \n",
       "2     0.323254  0.423848  1.000000  0.204971  0.419127  0.334606  0.198473   \n",
       "3     0.098657  0.268689  0.204971  1.000000  0.547861  0.547564  0.551365   \n",
       "4     0.454400  0.147885  0.419127  0.547861  1.000000  0.374215  0.494625   \n",
       "...        ...       ...       ...       ...       ...       ...       ...   \n",
       "1649  0.187284  0.075573  0.112062  0.037450  0.133514  0.099024  0.102800   \n",
       "1650  0.175161  0.075674  0.099386  0.044722  0.117428  0.094317  0.091276   \n",
       "1651  0.129718  0.059655  0.072001  0.061898  0.104973  0.090484  0.082654   \n",
       "1652  0.108374  0.051901  0.055462  0.067312  0.096481  0.084645  0.074542   \n",
       "y     0.167622  0.115955  0.057252  0.045154  0.039383  0.083647  0.044360   \n",
       "\n",
       "             7         8         9  ...      1644      1645      1646  \\\n",
       "0     0.343343  0.166918  0.271784  ...  0.013987  0.029139  0.152129   \n",
       "1     0.051301  0.112037  0.087679  ...  0.032471  0.027066  0.051456   \n",
       "2     0.212200  0.393269  0.079867  ...  0.078152  0.046505  0.116278   \n",
       "3     0.464944  0.128318  0.282078  ...  0.050531  0.049662  0.025726   \n",
       "4     0.548281  0.320674  0.295392  ...  0.121125  0.103107  0.136225   \n",
       "...        ...       ...       ...  ...       ...       ...       ...   \n",
       "1649  0.087014  0.093601  0.106831  ...  0.282726  0.011134  0.547805   \n",
       "1650  0.071293  0.066605  0.099585  ...  0.343473  0.113848  0.475177   \n",
       "1651  0.063481  0.041093  0.078025  ...  0.351870  0.147620  0.384273   \n",
       "1652  0.057071  0.026978  0.070403  ...  0.336015  0.146558  0.335204   \n",
       "y     0.022667  0.034120  0.151514  ...  0.104374  0.159334  0.232608   \n",
       "\n",
       "          1647      1648      1649      1650      1651      1652         y  \n",
       "0     0.176473  0.185391  0.187284  0.175161  0.129718  0.108374  0.167622  \n",
       "1     0.060571  0.066702  0.075573  0.075674  0.059655  0.051901  0.115955  \n",
       "2     0.126799  0.126082  0.112062  0.099386  0.072001  0.055462  0.057252  \n",
       "3     0.028633  0.034214  0.037450  0.044722  0.061898  0.067312  0.045154  \n",
       "4     0.140998  0.146138  0.133514  0.117428  0.104973  0.096481  0.039383  \n",
       "...        ...       ...       ...       ...       ...       ...       ...  \n",
       "1649  0.685074  0.882643  1.000000  0.909778  0.715323  0.638793  0.256317  \n",
       "1650  0.561310  0.700158  0.909778  1.000000  0.846110  0.770458  0.272181  \n",
       "1651  0.460036  0.572483  0.715323  0.846110  1.000000  0.982088  0.245594  \n",
       "1652  0.401572  0.502298  0.638793  0.770458  0.982088  1.000000  0.230077  \n",
       "y     0.270038  0.248742  0.256317  0.272181  0.245594  0.230077  1.000000  \n",
       "\n",
       "[1654 rows x 1654 columns]"
      ]
     },
     "execution_count": 104,
     "metadata": {},
     "output_type": "execute_result"
    }
   ],
   "source": [
    "corr_y"
   ]
  },
  {
   "cell_type": "code",
   "execution_count": 105,
   "metadata": {},
   "outputs": [
    {
     "data": {
      "text/html": [
       "<div>\n",
       "<style scoped>\n",
       "    .dataframe tbody tr th:only-of-type {\n",
       "        vertical-align: middle;\n",
       "    }\n",
       "\n",
       "    .dataframe tbody tr th {\n",
       "        vertical-align: top;\n",
       "    }\n",
       "\n",
       "    .dataframe thead th {\n",
       "        text-align: right;\n",
       "    }\n",
       "</style>\n",
       "<table border=\"1\" class=\"dataframe\">\n",
       "  <thead>\n",
       "    <tr style=\"text-align: right;\">\n",
       "      <th></th>\n",
       "      <th>0</th>\n",
       "      <th>1</th>\n",
       "      <th>2</th>\n",
       "      <th>3</th>\n",
       "      <th>4</th>\n",
       "      <th>5</th>\n",
       "      <th>6</th>\n",
       "      <th>7</th>\n",
       "      <th>8</th>\n",
       "      <th>9</th>\n",
       "      <th>...</th>\n",
       "      <th>1644</th>\n",
       "      <th>1645</th>\n",
       "      <th>1646</th>\n",
       "      <th>1647</th>\n",
       "      <th>1648</th>\n",
       "      <th>1649</th>\n",
       "      <th>1650</th>\n",
       "      <th>1651</th>\n",
       "      <th>1652</th>\n",
       "      <th>y</th>\n",
       "    </tr>\n",
       "  </thead>\n",
       "  <tbody>\n",
       "    <tr>\n",
       "      <th>y</th>\n",
       "      <td>0.167622</td>\n",
       "      <td>0.115955</td>\n",
       "      <td>0.057252</td>\n",
       "      <td>0.045154</td>\n",
       "      <td>0.039383</td>\n",
       "      <td>0.083647</td>\n",
       "      <td>0.04436</td>\n",
       "      <td>0.022667</td>\n",
       "      <td>0.03412</td>\n",
       "      <td>0.151514</td>\n",
       "      <td>...</td>\n",
       "      <td>0.104374</td>\n",
       "      <td>0.159334</td>\n",
       "      <td>0.232608</td>\n",
       "      <td>0.270038</td>\n",
       "      <td>0.248742</td>\n",
       "      <td>0.256317</td>\n",
       "      <td>0.272181</td>\n",
       "      <td>0.245594</td>\n",
       "      <td>0.230077</td>\n",
       "      <td>1.0</td>\n",
       "    </tr>\n",
       "  </tbody>\n",
       "</table>\n",
       "<p>1 rows × 1654 columns</p>\n",
       "</div>"
      ],
      "text/plain": [
       "          0         1         2         3         4         5        6  \\\n",
       "y  0.167622  0.115955  0.057252  0.045154  0.039383  0.083647  0.04436   \n",
       "\n",
       "          7        8         9  ...      1644      1645      1646      1647  \\\n",
       "y  0.022667  0.03412  0.151514  ...  0.104374  0.159334  0.232608  0.270038   \n",
       "\n",
       "       1648      1649      1650      1651      1652    y  \n",
       "y  0.248742  0.256317  0.272181  0.245594  0.230077  1.0  \n",
       "\n",
       "[1 rows x 1654 columns]"
      ]
     },
     "execution_count": 105,
     "metadata": {},
     "output_type": "execute_result"
    }
   ],
   "source": [
    "corr_y.tail(1)"
   ]
  },
  {
   "cell_type": "code",
   "execution_count": 106,
   "metadata": {},
   "outputs": [
    {
     "data": {
      "text/plain": [
       "0       0.167622\n",
       "1       0.115955\n",
       "2       0.057252\n",
       "3       0.045154\n",
       "4       0.039383\n",
       "          ...   \n",
       "1649    0.256317\n",
       "1650    0.272181\n",
       "1651    0.245594\n",
       "1652    0.230077\n",
       "y       1.000000\n",
       "Name: y, Length: 1654, dtype: float64"
      ]
     },
     "execution_count": 106,
     "metadata": {},
     "output_type": "execute_result"
    }
   ],
   "source": [
    "corr_y['y']"
   ]
  },
  {
   "cell_type": "code",
   "execution_count": 107,
   "metadata": {},
   "outputs": [],
   "source": [
    "y_corr=corr_y['y']"
   ]
  },
  {
   "cell_type": "code",
   "execution_count": 108,
   "metadata": {},
   "outputs": [
    {
     "data": {
      "text/plain": [
       "y       1.000000\n",
       "1572    0.378823\n",
       "1602    0.376727\n",
       "1497    0.361813\n",
       "1482    0.360609\n",
       "          ...   \n",
       "1633    0.257973\n",
       "1409    0.257625\n",
       "1575    0.257239\n",
       "1649    0.256317\n",
       "1425    0.255740\n",
       "Name: y, Length: 100, dtype: float64"
      ]
     },
     "execution_count": 108,
     "metadata": {},
     "output_type": "execute_result"
    }
   ],
   "source": [
    "y_corr.sort_values(ascending=False)[:100]"
   ]
  },
  {
   "cell_type": "code",
   "execution_count": 109,
   "metadata": {},
   "outputs": [],
   "source": [
    "y_corr.drop(y_corr.tail(1).index,inplace=True)"
   ]
  },
  {
   "cell_type": "code",
   "execution_count": 110,
   "metadata": {},
   "outputs": [
    {
     "data": {
      "text/plain": [
       "0       0.167622\n",
       "1       0.115955\n",
       "2       0.057252\n",
       "3       0.045154\n",
       "4       0.039383\n",
       "          ...   \n",
       "1648    0.248742\n",
       "1649    0.256317\n",
       "1650    0.272181\n",
       "1651    0.245594\n",
       "1652    0.230077\n",
       "Name: y, Length: 1653, dtype: float64"
      ]
     },
     "execution_count": 110,
     "metadata": {},
     "output_type": "execute_result"
    }
   ],
   "source": [
    "y_corr"
   ]
  },
  {
   "cell_type": "code",
   "execution_count": 111,
   "metadata": {},
   "outputs": [],
   "source": [
    "df_y_corr=pd.DataFrame(y_corr)"
   ]
  },
  {
   "cell_type": "code",
   "execution_count": 112,
   "metadata": {},
   "outputs": [],
   "source": [
    "df_y_corr['id']=[x for x in range(len(df_y_corr))]"
   ]
  },
  {
   "cell_type": "markdown",
   "metadata": {},
   "source": [
    "Sprawdzenie zależności cech od 'age'"
   ]
  },
  {
   "cell_type": "code",
   "execution_count": 113,
   "metadata": {},
   "outputs": [
    {
     "data": {
      "image/png": "[encoded data removed]",
      "text/plain": [
       "<Figure size 1368x504 with 1 Axes>"
      ]
     },
     "metadata": {
      "needs_background": "light"
     },
     "output_type": "display_data"
    }
   ],
   "source": [
    "plt.figure(figsize=(19, 7))\n",
    "plt.plot(df_y_corr['id'], df_y_corr['y'])\n",
    "plt.show()"
   ]
  },
  {
   "cell_type": "code",
   "execution_count": 114,
   "metadata": {},
   "outputs": [
    {
     "data": {
      "image/png": "[encoded data removed]",
      "text/plain": [
       "<Figure size 1368x504 with 1 Axes>"
      ]
     },
     "metadata": {
      "needs_background": "light"
     },
     "output_type": "display_data"
    }
   ],
   "source": [
    "plt.figure(figsize=(19, 7))\n",
    "plt.scatter(df_y_corr['id'], df_y_corr['y'], label='scatter', color='b', s=3)\n",
    "plt.show()"
   ]
  },
  {
   "cell_type": "markdown",
   "metadata": {},
   "source": [
    "testowanie czy wybranie 100 cech polepszy model"
   ]
  },
  {
   "cell_type": "code",
   "execution_count": 115,
   "metadata": {},
   "outputs": [],
   "source": [
    "df_y_corr_100=df_y_corr['y'].sort_values(ascending=False)[:100]"
   ]
  },
  {
   "cell_type": "code",
   "execution_count": 116,
   "metadata": {},
   "outputs": [],
   "source": [
    "df_y_corr_100=pd.DataFrame(df_y_corr_100)"
   ]
  },
  {
   "cell_type": "code",
   "execution_count": 117,
   "metadata": {},
   "outputs": [
    {
     "data": {
      "text/plain": [
       "Index([1572, 1602, 1497, 1482, 1527, 1526, 1481, 1496, 1601, 1542, 1571, 1541,\n",
       "       1573, 1603, 1467, 1506, 1587, 1407, 1466, 1557, 1406, 1498, 1512, 1476,\n",
       "       1392, 1377, 1511, 1528, 1422, 1452, 1556, 1588, 1483, 1393, 1437, 1423,\n",
       "       1617, 1513, 1604, 1499, 1453, 1558, 1529, 1543, 1431, 1378, 1391, 1536,\n",
       "       1468, 1438, 1514, 1574, 1376, 1451, 1589, 1408, 1632, 1521, 1421, 1394,\n",
       "       1616, 1605, 1454, 1586, 1439, 1530, 1619, 1618, 1379, 1424, 1559, 1544,\n",
       "       1446, 1440, 1491, 1475, 1500, 1620, 1436,  917, 1650, 1590, 1469, 1647,\n",
       "       1455, 1515, 1611, 1484, 1416,  746, 1395, 1380, 1545, 1470, 1633, 1409,\n",
       "       1575, 1649, 1425, 1551],\n",
       "      dtype='object')"
      ]
     },
     "execution_count": 117,
     "metadata": {},
     "output_type": "execute_result"
    }
   ],
   "source": [
    "df_y_corr_100.index"
   ]
  },
  {
   "cell_type": "code",
   "execution_count": 118,
   "metadata": {},
   "outputs": [],
   "source": [
    "df_X_train_y_new=df_X_train_y[[1572, 1602, 1497, 1482, 1527, 1526, 1481, 1496, 1601, 1542, 1571, 1541,\n",
    "       1573, 1603, 1467, 1506, 1587, 1407, 1466, 1557, 1406, 1498, 1512, 1476,\n",
    "       1392, 1377, 1511, 1528, 1422, 1452, 1556, 1588, 1483, 1393, 1437, 1423,\n",
    "       1617, 1513, 1604, 1499, 1453, 1558, 1529, 1543, 1431, 1378, 1391, 1536,\n",
    "       1468, 1438, 1514, 1574, 1376, 1451, 1589, 1408, 1632, 1521, 1421, 1394,\n",
    "       1616, 1605, 1454, 1586, 1439, 1530, 1619, 1618, 1379, 1424, 1559, 1544,\n",
    "       1446, 1440, 1491, 1475, 1500, 1620, 1436,  917, 1650, 1590, 1469, 1647,\n",
    "       1455, 1515, 1611, 1484, 1416,  746, 1395, 1380, 1545, 1470, 1633, 1409,\n",
    "       1575, 1649, 1425, 1551, 'y']]"
   ]
  },
  {
   "cell_type": "code",
   "execution_count": 119,
   "metadata": {},
   "outputs": [],
   "source": [
    "y=df_X_train_y_new['y']"
   ]
  },
  {
   "cell_type": "code",
   "execution_count": 120,
   "metadata": {},
   "outputs": [
    {
     "data": {
      "text/plain": [
       "(15092,)"
      ]
     },
     "execution_count": 120,
     "metadata": {},
     "output_type": "execute_result"
    }
   ],
   "source": [
    "y.shape"
   ]
  },
  {
   "cell_type": "code",
   "execution_count": 121,
   "metadata": {},
   "outputs": [],
   "source": [
    "X = df_X_train_y_new.drop(['y'], axis=1)"
   ]
  },
  {
   "cell_type": "code",
   "execution_count": 122,
   "metadata": {},
   "outputs": [
    {
     "data": {
      "text/plain": [
       "(15092, 100)"
      ]
     },
     "execution_count": 122,
     "metadata": {},
     "output_type": "execute_result"
    }
   ],
   "source": [
    "X.shape"
   ]
  },
  {
   "cell_type": "code",
   "execution_count": 123,
   "metadata": {},
   "outputs": [],
   "source": [
    "X_train, X_test, y_train, y_test = train_test_split(X, y, test_size=0.3, random_state=2022)"
   ]
  },
  {
   "cell_type": "code",
   "execution_count": 124,
   "metadata": {},
   "outputs": [
    {
     "name": "stdout",
     "output_type": "stream",
     "text": [
      "Train: (10564, 100) (10564,)\n",
      "Test: (4528, 100) (4528,)\n"
     ]
    }
   ],
   "source": [
    "print(\"Train:\", X_train.shape, y_train.shape)\n",
    "print(\"Test:\", X_test.shape, y_test.shape)"
   ]
  },
  {
   "cell_type": "code",
   "execution_count": 125,
   "metadata": {},
   "outputs": [
    {
     "data": {
      "image/png": "[encoded data removed]",
      "text/plain": [
       "<Figure size 432x288 with 1 Axes>"
      ]
     },
     "metadata": {
      "needs_background": "light"
     },
     "output_type": "display_data"
    }
   ],
   "source": [
    "y_train.hist(bins=50);"
   ]
  },
  {
   "cell_type": "code",
   "execution_count": 126,
   "metadata": {},
   "outputs": [
    {
     "data": {
      "image/png": "[encoded data removed]",
      "text/plain": [
       "<Figure size 432x288 with 1 Axes>"
      ]
     },
     "metadata": {
      "needs_background": "light"
     },
     "output_type": "display_data"
    }
   ],
   "source": [
    "y_train.hist(bins=50);"
   ]
  },
  {
   "cell_type": "code",
   "execution_count": 127,
   "metadata": {},
   "outputs": [
    {
     "data": {
      "image/png": "[encoded data removed]",
      "text/plain": [
       "<Figure size 432x288 with 1 Axes>"
      ]
     },
     "metadata": {
      "needs_background": "light"
     },
     "output_type": "display_data"
    }
   ],
   "source": [
    "y_test.hist(bins=50);"
   ]
  },
  {
   "cell_type": "code",
   "execution_count": 128,
   "metadata": {},
   "outputs": [
    {
     "data": {
      "text/plain": [
       "DecisionTreeRegressor()"
      ]
     },
     "execution_count": 128,
     "metadata": {},
     "output_type": "execute_result"
    }
   ],
   "source": [
    "dt_reg = DecisionTreeRegressor()\n",
    "dt_reg.fit(X_train,y_train)"
   ]
  },
  {
   "cell_type": "code",
   "execution_count": 131,
   "metadata": {},
   "outputs": [
    {
     "name": "stdout",
     "output_type": "stream",
     "text": [
      "MSE : 290.52547400112394\n",
      "RMSE : 17.044807831158554\n",
      "MAE : 12.8716898489103\n",
      "R-Squared : -0.1861172629968073\n"
     ]
    }
   ],
   "source": [
    "# Testing Data Evaluation\n",
    "y_pred = dt_reg.predict(X_test)\n",
    "\n",
    "mse = mean_squared_error(y_test, y_pred)\n",
    "print(\"MSE :\",mse)\n",
    "\n",
    "rmse = np.sqrt(mse)\n",
    "print(\"RMSE :\",rmse)\n",
    "\n",
    "mae = mean_absolute_error(y_test, y_pred)\n",
    "print(\"MAE :\",mae)\n",
    "\n",
    "r2 = r2_score(y_test, y_pred)\n",
    "print('R-Squared :',r2)"
   ]
  },
  {
   "cell_type": "code",
   "execution_count": 132,
   "metadata": {},
   "outputs": [
    {
     "data": {
      "text/plain": [
       "XGBRegressor(base_score=0.5, booster='gbtree', callbacks=None,\n",
       "             colsample_bylevel=1, colsample_bynode=1, colsample_bytree=1,\n",
       "             early_stopping_rounds=None, enable_categorical=False,\n",
       "             eval_metric=None, feature_types=None, gamma=0, gpu_id=-1,\n",
       "             grow_policy='depthwise', importance_type=None,\n",
       "             interaction_constraints='', learning_rate=0.300000012, max_bin=256,\n",
       "             max_cat_threshold=64, max_cat_to_onehot=4, max_delta_step=0,\n",
       "             max_depth=6, max_leaves=0, min_child_weight=1, missing=nan,\n",
       "             monotone_constraints='()', n_estimators=100, n_jobs=0,\n",
       "             num_parallel_tree=1, predictor='auto', random_state=0, ...)"
      ]
     },
     "execution_count": 132,
     "metadata": {},
     "output_type": "execute_result"
    }
   ],
   "source": [
    "xgb_reg = XGBRegressor()\n",
    "xgb_reg.fit(X_train,y_train)"
   ]
  },
  {
   "cell_type": "code",
   "execution_count": 133,
   "metadata": {},
   "outputs": [
    {
     "name": "stdout",
     "output_type": "stream",
     "text": [
      "MSE : 141.81905856382707\n",
      "RMSE : 11.908780733720269\n",
      "MAE : 9.371111577656947\n",
      "R-Squared : 0.4210007430058965\n"
     ]
    }
   ],
   "source": [
    "# Testing Data Evaluation\n",
    "y_pred = xgb_reg.predict(X_test)\n",
    "\n",
    "mse = mean_squared_error(y_test, y_pred)\n",
    "print(\"MSE :\",mse)\n",
    "\n",
    "rmse = np.sqrt(mse)\n",
    "print(\"RMSE :\",rmse)\n",
    "\n",
    "mae = mean_absolute_error(y_test, y_pred)\n",
    "print(\"MAE :\",mae)\n",
    "\n",
    "r2 = r2_score(y_test, y_pred)\n",
    "print('R-Squared :',r2)"
   ]
  },
  {
   "cell_type": "code",
   "execution_count": 134,
   "metadata": {},
   "outputs": [
    {
     "data": {
      "image/png": "[encoded data removed]",
      "text/plain": [
       "<Figure size 432x288 with 1 Axes>"
      ]
     },
     "metadata": {
      "needs_background": "light"
     },
     "output_type": "display_data"
    }
   ],
   "source": [
    "pd.Series(y_pred).hist(bins=50);"
   ]
  },
  {
   "cell_type": "markdown",
   "metadata": {},
   "source": [
    "## Sprawdzenie PCA - czy poprawi wynik modelu"
   ]
  },
  {
   "cell_type": "code",
   "execution_count": 135,
   "metadata": {},
   "outputs": [],
   "source": [
    "from sklearn.preprocessing import MinMaxScaler, StandardScaler, LabelEncoder\n",
    "from sklearn.decomposition import PCA"
   ]
  },
  {
   "cell_type": "code",
   "execution_count": 136,
   "metadata": {},
   "outputs": [],
   "source": [
    "# https://github.com/MamczurMiroslaw/PCA/blob/master/notebooks/PCA_example.ipynb\n",
    "# https://miroslawmamczur.pl/na-czym-polega-analiza-skladowych-glownych-pca/"
   ]
  },
  {
   "cell_type": "code",
   "execution_count": 137,
   "metadata": {},
   "outputs": [],
   "source": [
    "df_X_train_id=df_X_train"
   ]
  },
  {
   "cell_type": "code",
   "execution_count": 138,
   "metadata": {},
   "outputs": [],
   "source": [
    "df_X_train_id['id']=[x for x in range(len(df_X_train_id))]"
   ]
  },
  {
   "cell_type": "code",
   "execution_count": 139,
   "metadata": {},
   "outputs": [
    {
     "data": {
      "text/html": [
       "<div>\n",
       "<style scoped>\n",
       "    .dataframe tbody tr th:only-of-type {\n",
       "        vertical-align: middle;\n",
       "    }\n",
       "\n",
       "    .dataframe tbody tr th {\n",
       "        vertical-align: top;\n",
       "    }\n",
       "\n",
       "    .dataframe thead th {\n",
       "        text-align: right;\n",
       "    }\n",
       "</style>\n",
       "<table border=\"1\" class=\"dataframe\">\n",
       "  <thead>\n",
       "    <tr style=\"text-align: right;\">\n",
       "      <th></th>\n",
       "      <th>0</th>\n",
       "      <th>1</th>\n",
       "      <th>2</th>\n",
       "      <th>3</th>\n",
       "      <th>4</th>\n",
       "      <th>5</th>\n",
       "      <th>6</th>\n",
       "      <th>7</th>\n",
       "      <th>8</th>\n",
       "      <th>9</th>\n",
       "      <th>...</th>\n",
       "      <th>1645</th>\n",
       "      <th>1646</th>\n",
       "      <th>1647</th>\n",
       "      <th>1648</th>\n",
       "      <th>1649</th>\n",
       "      <th>1650</th>\n",
       "      <th>1651</th>\n",
       "      <th>1652</th>\n",
       "      <th>y</th>\n",
       "      <th>id</th>\n",
       "    </tr>\n",
       "  </thead>\n",
       "  <tbody>\n",
       "    <tr>\n",
       "      <th>0</th>\n",
       "      <td>0.948392</td>\n",
       "      <td>0.807233</td>\n",
       "      <td>0.634927</td>\n",
       "      <td>0.795152</td>\n",
       "      <td>0.689951</td>\n",
       "      <td>0.808429</td>\n",
       "      <td>0.360581</td>\n",
       "      <td>0.324411</td>\n",
       "      <td>0.274222</td>\n",
       "      <td>0.485078</td>\n",
       "      <td>...</td>\n",
       "      <td>0.045557</td>\n",
       "      <td>0.045326</td>\n",
       "      <td>0.062304</td>\n",
       "      <td>0.065491</td>\n",
       "      <td>0.038242</td>\n",
       "      <td>0.014110</td>\n",
       "      <td>0.018287</td>\n",
       "      <td>0.013729</td>\n",
       "      <td>38.083333</td>\n",
       "      <td>0</td>\n",
       "    </tr>\n",
       "    <tr>\n",
       "      <th>1</th>\n",
       "      <td>0.746620</td>\n",
       "      <td>0.575926</td>\n",
       "      <td>0.214289</td>\n",
       "      <td>0.517099</td>\n",
       "      <td>0.307934</td>\n",
       "      <td>0.401059</td>\n",
       "      <td>0.521206</td>\n",
       "      <td>0.516610</td>\n",
       "      <td>0.191877</td>\n",
       "      <td>0.430831</td>\n",
       "      <td>...</td>\n",
       "      <td>0.016015</td>\n",
       "      <td>0.011243</td>\n",
       "      <td>0.011759</td>\n",
       "      <td>0.008217</td>\n",
       "      <td>0.004201</td>\n",
       "      <td>0.002672</td>\n",
       "      <td>0.003413</td>\n",
       "      <td>0.002757</td>\n",
       "      <td>44.833333</td>\n",
       "      <td>1</td>\n",
       "    </tr>\n",
       "    <tr>\n",
       "      <th>2</th>\n",
       "      <td>0.263161</td>\n",
       "      <td>0.330337</td>\n",
       "      <td>0.204795</td>\n",
       "      <td>0.338505</td>\n",
       "      <td>0.189303</td>\n",
       "      <td>0.249672</td>\n",
       "      <td>0.302185</td>\n",
       "      <td>0.193063</td>\n",
       "      <td>0.155043</td>\n",
       "      <td>0.248955</td>\n",
       "      <td>...</td>\n",
       "      <td>0.149967</td>\n",
       "      <td>0.050630</td>\n",
       "      <td>0.037759</td>\n",
       "      <td>0.033869</td>\n",
       "      <td>0.030550</td>\n",
       "      <td>0.022065</td>\n",
       "      <td>0.024785</td>\n",
       "      <td>0.018057</td>\n",
       "      <td>37.666667</td>\n",
       "      <td>2</td>\n",
       "    </tr>\n",
       "  </tbody>\n",
       "</table>\n",
       "<p>3 rows × 1655 columns</p>\n",
       "</div>"
      ],
      "text/plain": [
       "          0         1         2         3         4         5         6  \\\n",
       "0  0.948392  0.807233  0.634927  0.795152  0.689951  0.808429  0.360581   \n",
       "1  0.746620  0.575926  0.214289  0.517099  0.307934  0.401059  0.521206   \n",
       "2  0.263161  0.330337  0.204795  0.338505  0.189303  0.249672  0.302185   \n",
       "\n",
       "          7         8         9  ...      1645      1646      1647      1648  \\\n",
       "0  0.324411  0.274222  0.485078  ...  0.045557  0.045326  0.062304  0.065491   \n",
       "1  0.516610  0.191877  0.430831  ...  0.016015  0.011243  0.011759  0.008217   \n",
       "2  0.193063  0.155043  0.248955  ...  0.149967  0.050630  0.037759  0.033869   \n",
       "\n",
       "       1649      1650      1651      1652          y  id  \n",
       "0  0.038242  0.014110  0.018287  0.013729  38.083333   0  \n",
       "1  0.004201  0.002672  0.003413  0.002757  44.833333   1  \n",
       "2  0.030550  0.022065  0.024785  0.018057  37.666667   2  \n",
       "\n",
       "[3 rows x 1655 columns]"
      ]
     },
     "execution_count": 139,
     "metadata": {},
     "output_type": "execute_result"
    }
   ],
   "source": [
    "df_X_train_id.head(3)"
   ]
  },
  {
   "cell_type": "code",
   "execution_count": 140,
   "metadata": {},
   "outputs": [
    {
     "name": "stderr",
     "output_type": "stream",
     "text": [
      "/usr/local/lib/python3.8/dist-packages/sklearn/utils/validation.py:1688: FutureWarning: Feature names only support names that are all strings. Got feature names with dtypes: ['int', 'str']. An error will be raised in 1.2.\n",
      "  warnings.warn(\n"
     ]
    }
   ],
   "source": [
    "# kolumny do wykluczenia (te na których nie chcemy PCA)\n",
    "exclude_filter = ~df_X_train_id.columns.isin(['id']) \n",
    "# liczba głównych składowych\n",
    "pca = PCA(n_components = 3)\n",
    "# przeliczenie\n",
    "principal_components = pca.fit_transform(df_X_train_id.loc[:, exclude_filter])"
   ]
  },
  {
   "cell_type": "code",
   "execution_count": 141,
   "metadata": {},
   "outputs": [
    {
     "data": {
      "text/html": [
       "<div>\n",
       "<style scoped>\n",
       "    .dataframe tbody tr th:only-of-type {\n",
       "        vertical-align: middle;\n",
       "    }\n",
       "\n",
       "    .dataframe tbody tr th {\n",
       "        vertical-align: top;\n",
       "    }\n",
       "\n",
       "    .dataframe thead th {\n",
       "        text-align: right;\n",
       "    }\n",
       "</style>\n",
       "<table border=\"1\" class=\"dataframe\">\n",
       "  <thead>\n",
       "    <tr style=\"text-align: right;\">\n",
       "      <th></th>\n",
       "      <th>principal component 1</th>\n",
       "      <th>principal component 2</th>\n",
       "      <th>principal component 3</th>\n",
       "      <th>id</th>\n",
       "    </tr>\n",
       "  </thead>\n",
       "  <tbody>\n",
       "    <tr>\n",
       "      <th>0</th>\n",
       "      <td>-1.179466</td>\n",
       "      <td>1.637534</td>\n",
       "      <td>3.962036</td>\n",
       "      <td>0</td>\n",
       "    </tr>\n",
       "    <tr>\n",
       "      <th>1</th>\n",
       "      <td>5.632722</td>\n",
       "      <td>-1.179375</td>\n",
       "      <td>2.976190</td>\n",
       "      <td>1</td>\n",
       "    </tr>\n",
       "    <tr>\n",
       "      <th>2</th>\n",
       "      <td>-1.485577</td>\n",
       "      <td>-4.341022</td>\n",
       "      <td>0.750782</td>\n",
       "      <td>2</td>\n",
       "    </tr>\n",
       "    <tr>\n",
       "      <th>3</th>\n",
       "      <td>19.011166</td>\n",
       "      <td>2.567863</td>\n",
       "      <td>-1.994120</td>\n",
       "      <td>3</td>\n",
       "    </tr>\n",
       "    <tr>\n",
       "      <th>4</th>\n",
       "      <td>13.906169</td>\n",
       "      <td>0.098795</td>\n",
       "      <td>-1.923305</td>\n",
       "      <td>4</td>\n",
       "    </tr>\n",
       "    <tr>\n",
       "      <th>...</th>\n",
       "      <td>...</td>\n",
       "      <td>...</td>\n",
       "      <td>...</td>\n",
       "      <td>...</td>\n",
       "    </tr>\n",
       "    <tr>\n",
       "      <th>15087</th>\n",
       "      <td>19.461451</td>\n",
       "      <td>-0.150904</td>\n",
       "      <td>-0.206712</td>\n",
       "      <td>15087</td>\n",
       "    </tr>\n",
       "    <tr>\n",
       "      <th>15088</th>\n",
       "      <td>-21.689211</td>\n",
       "      <td>-2.319554</td>\n",
       "      <td>0.088699</td>\n",
       "      <td>15088</td>\n",
       "    </tr>\n",
       "    <tr>\n",
       "      <th>15089</th>\n",
       "      <td>11.440626</td>\n",
       "      <td>1.872752</td>\n",
       "      <td>0.744701</td>\n",
       "      <td>15089</td>\n",
       "    </tr>\n",
       "    <tr>\n",
       "      <th>15090</th>\n",
       "      <td>13.008310</td>\n",
       "      <td>0.161006</td>\n",
       "      <td>-0.788371</td>\n",
       "      <td>15090</td>\n",
       "    </tr>\n",
       "    <tr>\n",
       "      <th>15091</th>\n",
       "      <td>-20.345665</td>\n",
       "      <td>-0.173792</td>\n",
       "      <td>4.102807</td>\n",
       "      <td>15091</td>\n",
       "    </tr>\n",
       "  </tbody>\n",
       "</table>\n",
       "<p>15092 rows × 4 columns</p>\n",
       "</div>"
      ],
      "text/plain": [
       "       principal component 1  principal component 2  principal component 3  \\\n",
       "0                  -1.179466               1.637534               3.962036   \n",
       "1                   5.632722              -1.179375               2.976190   \n",
       "2                  -1.485577              -4.341022               0.750782   \n",
       "3                  19.011166               2.567863              -1.994120   \n",
       "4                  13.906169               0.098795              -1.923305   \n",
       "...                      ...                    ...                    ...   \n",
       "15087              19.461451              -0.150904              -0.206712   \n",
       "15088             -21.689211              -2.319554               0.088699   \n",
       "15089              11.440626               1.872752               0.744701   \n",
       "15090              13.008310               0.161006              -0.788371   \n",
       "15091             -20.345665              -0.173792               4.102807   \n",
       "\n",
       "          id  \n",
       "0          0  \n",
       "1          1  \n",
       "2          2  \n",
       "3          3  \n",
       "4          4  \n",
       "...      ...  \n",
       "15087  15087  \n",
       "15088  15088  \n",
       "15089  15089  \n",
       "15090  15090  \n",
       "15091  15091  \n",
       "\n",
       "[15092 rows x 4 columns]"
      ]
     },
     "execution_count": 141,
     "metadata": {},
     "output_type": "execute_result"
    }
   ],
   "source": [
    "principal_df = pd.DataFrame(data = principal_components, \n",
    "                           columns = ['principal component 1', 'principal component 2', 'principal component 3'])\n",
    "\n",
    "principal_df['id'] = df_X_train_id['id']\n",
    "principal_df"
   ]
  },
  {
   "cell_type": "code",
   "execution_count": null,
   "metadata": {},
   "outputs": [],
   "source": []
  }
 ],
 "metadata": {
  "kernelspec": {
   "display_name": "Python 3 (ipykernel)",
   "language": "python",
   "name": "python3"
  },
  "language_info": {
   "codemirror_mode": {
    "name": "ipython",
    "version": 3
   },
   "file_extension": ".py",
   "mimetype": "text/x-python",
   "name": "python",
   "nbconvert_exporter": "python",
   "pygments_lexer": "ipython3",
   "version": "3.8.10"
  }
 },
 "nbformat": 4,
 "nbformat_minor": 4
}
